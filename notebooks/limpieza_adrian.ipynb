{
 "cells": [
  {
   "cell_type": "code",
   "execution_count": null,
   "id": "aaa9fe0f",
   "metadata": {},
   "outputs": [],
   "source": [
    "import pandas as pd\n",
    "import numpy as np"
   ]
  },
  {
   "cell_type": "code",
   "execution_count": null,
   "id": "9777be93",
   "metadata": {},
   "outputs": [],
   "source": [
    "import os\n",
    "print(\"Working directory:\", os.getcwd())"
   ]
  },
  {
   "cell_type": "code",
   "execution_count": null,
   "metadata": {},
   "outputs": [],
   "source": [
    "# Las variables que se van a eliminar no aportan información\n",
    "# Se eliminan por último variables que se pueden formar a partir de otras\n",
    "defensive = pd.read_csv(\"Data/Datos La Liga 17-25/Defensive.csv\")\n",
    "defensive_clean = defensive.drop(columns=['Unnamed: 2_level_0 90s_for', 'Unnamed: 1_level_0 # Pl_for', 'Tackles Tkl_for', 'Challenges Att_for','Unnamed: 16_level_0 Tkl+Int_for','Unnamed: 2_level_0 90s_against', 'Unnamed: 1_level_0 # Pl_against', 'Tackles Tkl_against', 'Challenges Att_against','Unnamed: 16_level_0 Tkl+Int_against'])\n",
    "\n",
    "misc = pd.read_csv(\"Data/Datos La Liga 17-25/misc.csv\")\n",
    "misc_clean = misc.drop(columns=['Unnamed: 2_level_0 90s_for','Unnamed: 2_level_0 90s_against','Unnamed: 1_level_0 # Pl_for','Unnamed: 1_level_0 # Pl_against','Aerial Duels Won%_against','Aerial Duels Won%_for'])\n",
    "\n",
    "passing = pd.read_csv(\"Data/Datos La Liga 17-25/Passing.csv\")\n",
    "passing_clean = passing.drop(columns=['Unnamed: 2_level_0 90s_for','Unnamed: 2_level_0 90s_against', 'Unnamed: 1_level_0 # Pl_for','Unnamed: 1_level_0 # Pl_against','Expected A-xAG_for','Expected A-xAG_against','Long Cmp%_against','Long Cmp%_for','Short Cmp%_against','Short Cmp%_for','Medium Cmp%_against','Medium Cmp%_for','Total Cmp%_against','Total Cmp%_for'])\n",
    "\n",
    "pass_types = pd.read_csv(\"Data/Datos La Liga 17-25/PassTypes.csv\")\n",
    "pass_types_clean = pass_types.drop(columns=['Unnamed: 2_level_0 90s_for','Unnamed: 2_level_0 90s_against', 'Unnamed: 1_level_0 # Pl_for','Unnamed: 1_level_0 # Pl_against'])"
   ]
  },
  {
   "cell_type": "code",
   "execution_count": null,
   "id": "dddf2c4c",
   "metadata": {},
   "outputs": [],
   "source": [
    "# Comparar los DataFrames limpios con los originales\n",
    "print(\"Defensive Clean Shape:\", defensive_clean.shape)\n",
    "print(\"Deffensive Original Shape:\", defensive.shape)\n",
    "print(\"Misc Clean Shape:\", misc_clean.shape)\n",
    "print(\"Misc Original Shape:\", misc.shape)\n",
    "print(\"Passing Clean Shape:\", passing_clean.shape)\n",
    "print(\"Passing Original Shape:\", passing.shape)   \n",
    "print(\"Pass Types Clean Shape:\", pass_types_clean.shape)\n",
    "print(\"Pass Types Original Shape:\", pass_types.shape) "
   ]
  },
  {
   "cell_type": "code",
   "execution_count": null,
   "id": "3d55eae6",
   "metadata": {},
   "outputs": [],
   "source": [
    "# Unión de los DataFrames limpios\n",
    "Clean_adrian = pd.merge(left=defensive_clean, right=misc_clean, on=[\"Squad\",\"Season\"], how='left',suffixes=('_df', '_misc'))\n",
    "Clean_adrian = pd.merge(left=Clean_adrian, right=passing_clean, on=[\"Squad\",\"Season\"], how='left',suffixes=('', '_ps'))\n",
    "Clean_adrian = pd.merge(left=Clean_adrian, right=pass_types_clean, on=[\"Squad\",\"Season\"], how='left',suffixes=('', '_ps_t'))\n",
    "# Comprobar la unión\n",
    "print(\"Clean Adrian Shape:\", Clean_adrian.shape)"
   ]
  },
  {
   "cell_type": "code",
   "execution_count": null,
   "id": "ba5c42bf",
   "metadata": {},
   "outputs": [],
   "source": [
    "from ydata_profiling import ProfileReport\n",
    "profile = ProfileReport(Clean_adrian, title=\"Clean Adrian Data Profiling Report\", explorative=True)\n",
    "profile.to_file(\"Clean_Adrian_Profile_Report.html\")"
   ]
  }
 ],
 "metadata": {
  "kernelspec": {
   "display_name": ".venv",
   "language": "python",
   "name": "python3"
  },
  "language_info": {
   "codemirror_mode": {
    "name": "ipython",
    "version": 3
   },
   "file_extension": ".py",
   "mimetype": "text/x-python",
   "name": "python",
   "nbconvert_exporter": "python",
   "pygments_lexer": "ipython3",
   "version": "3.12.0"
  }
 },
 "nbformat": 4,
 "nbformat_minor": 5
}

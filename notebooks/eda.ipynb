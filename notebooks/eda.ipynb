{
 "cells": [
  {
   "cell_type": "code",
   "execution_count": 4,
   "id": "74ed2d14",
   "metadata": {},
   "outputs": [
    {
     "data": {
      "application/vnd.jupyter.widget-view+json": {
       "model_id": "f19def8545a94b05afbbcf528fc9912e",
       "version_major": 2,
       "version_minor": 0
      },
      "text/plain": [
       "Summarize dataset:   0%|          | 0/5 [00:00<?, ?it/s]"
      ]
     },
     "metadata": {},
     "output_type": "display_data"
    },
    {
     "name": "stderr",
     "output_type": "stream",
     "text": [
      "100%|██████████| 46/46 [00:00<00:00, 1079.98it/s]\n"
     ]
    },
    {
     "data": {
      "application/vnd.jupyter.widget-view+json": {
       "model_id": "5d6cacd9495e496c9af4acafc29a2291",
       "version_major": 2,
       "version_minor": 0
      },
      "text/plain": [
       "Generate report structure:   0%|          | 0/1 [00:00<?, ?it/s]"
      ]
     },
     "metadata": {},
     "output_type": "display_data"
    },
    {
     "data": {
      "application/vnd.jupyter.widget-view+json": {
       "model_id": "ba11d10d5a84404a858cdf06991f95bd",
       "version_major": 2,
       "version_minor": 0
      },
      "text/plain": [
       "Render HTML:   0%|          | 0/1 [00:00<?, ?it/s]"
      ]
     },
     "metadata": {},
     "output_type": "display_data"
    },
    {
     "data": {
      "application/vnd.jupyter.widget-view+json": {
       "model_id": "679f0edec88d4f549b7f73fe86a1a455",
       "version_major": 2,
       "version_minor": 0
      },
      "text/plain": [
       "Export report to file:   0%|          | 0/1 [00:00<?, ?it/s]"
      ]
     },
     "metadata": {},
     "output_type": "display_data"
    },
    {
     "name": "stdout",
     "output_type": "stream",
     "text": [
      "✅ Guardado en: eda_reports\\playing_time_eda.html\n",
      "\n"
     ]
    }
   ],
   "source": [
    "import pandas as pd\n",
    "from ydata_profiling import ProfileReport\n",
    "from pathlib import Path\n",
    "\n",
    "ruta_csvs = Path(\"../Data/Datos La Liga 17-25\")\n",
    "\n",
    "ruta_salida = Path(\"eda_reports\")\n",
    "ruta_salida.mkdir(parents=True, exist_ok=True)\n",
    "\n",
    "# Generar informes EDA\n",
    "for csv in ruta_csvs.glob(\"playing_time.csv\"):\n",
    "    try:\n",
    "        df = pd.read_csv(csv, encoding=\"utf-8\", quotechar='\"', skipinitialspace=True)\n",
    "\n",
    "        profile = ProfileReport(df, title=f\"EDA - {csv.stem}\", explorative=True)\n",
    "        output_path = ruta_salida / f\"{csv.stem}_eda.html\"\n",
    "        profile.to_file(output_path)\n",
    "        print(f\"✅ Guardado en: {output_path}\\n\")\n",
    "    except Exception as e:\n",
    "        print(f\"⚠️ Error al procesar {csv.name}: {e}\")\n"
   ]
  },
  {
   "cell_type": "code",
   "execution_count": 12,
   "id": "4a989524",
   "metadata": {},
   "outputs": [
    {
     "name": "stdout",
     "output_type": "stream",
     "text": [
      "================================================================================\n",
      "📄 Archivo: defensive.csv\n",
      "\n"
     ]
    },
    {
     "data": {
      "application/vnd.microsoft.datawrangler.viewer.v0+json": {
       "columns": [
        {
         "name": "index",
         "rawType": "int64",
         "type": "integer"
        },
        {
         "name": "Squad",
         "rawType": "object",
         "type": "string"
        },
        {
         "name": "Unnamed: 1_level_0 # Pl_for",
         "rawType": "int64",
         "type": "integer"
        },
        {
         "name": "Unnamed: 2_level_0 90s_for",
         "rawType": "float64",
         "type": "float"
        },
        {
         "name": "Unnamed: 3_level_0 Att_for",
         "rawType": "int64",
         "type": "integer"
        },
        {
         "name": "Pass Types Live_for",
         "rawType": "int64",
         "type": "integer"
        },
        {
         "name": "Pass Types Dead_for",
         "rawType": "int64",
         "type": "integer"
        },
        {
         "name": "Pass Types FK_for",
         "rawType": "int64",
         "type": "integer"
        },
        {
         "name": "Pass Types TB_for",
         "rawType": "int64",
         "type": "integer"
        },
        {
         "name": "Pass Types Sw_for",
         "rawType": "int64",
         "type": "integer"
        },
        {
         "name": "Pass Types Crs_for",
         "rawType": "int64",
         "type": "integer"
        },
        {
         "name": "Pass Types TI_for",
         "rawType": "int64",
         "type": "integer"
        },
        {
         "name": "Pass Types CK_for",
         "rawType": "int64",
         "type": "integer"
        },
        {
         "name": "Corner Kicks In_for",
         "rawType": "int64",
         "type": "integer"
        },
        {
         "name": "Corner Kicks Out_for",
         "rawType": "int64",
         "type": "integer"
        },
        {
         "name": "Corner Kicks Str_for",
         "rawType": "int64",
         "type": "integer"
        },
        {
         "name": "Outcomes Cmp_for",
         "rawType": "int64",
         "type": "integer"
        },
        {
         "name": "Outcomes Off_for",
         "rawType": "int64",
         "type": "integer"
        },
        {
         "name": "Outcomes Blocks_for",
         "rawType": "int64",
         "type": "integer"
        },
        {
         "name": "Unnamed: 1_level_0 # Pl_against",
         "rawType": "int64",
         "type": "integer"
        },
        {
         "name": "Unnamed: 2_level_0 90s_against",
         "rawType": "float64",
         "type": "float"
        },
        {
         "name": "Unnamed: 3_level_0 Att_against",
         "rawType": "int64",
         "type": "integer"
        },
        {
         "name": "Pass Types Live_against",
         "rawType": "int64",
         "type": "integer"
        },
        {
         "name": "Pass Types Dead_against",
         "rawType": "int64",
         "type": "integer"
        },
        {
         "name": "Pass Types FK_against",
         "rawType": "int64",
         "type": "integer"
        },
        {
         "name": "Pass Types TB_against",
         "rawType": "int64",
         "type": "integer"
        },
        {
         "name": "Pass Types Sw_against",
         "rawType": "int64",
         "type": "integer"
        },
        {
         "name": "Pass Types Crs_against",
         "rawType": "int64",
         "type": "integer"
        },
        {
         "name": "Pass Types TI_against",
         "rawType": "int64",
         "type": "integer"
        },
        {
         "name": "Pass Types CK_against",
         "rawType": "int64",
         "type": "integer"
        },
        {
         "name": "Corner Kicks In_against",
         "rawType": "int64",
         "type": "integer"
        },
        {
         "name": "Corner Kicks Out_against",
         "rawType": "int64",
         "type": "integer"
        },
        {
         "name": "Corner Kicks Str_against",
         "rawType": "int64",
         "type": "integer"
        },
        {
         "name": "Outcomes Cmp_against",
         "rawType": "int64",
         "type": "integer"
        },
        {
         "name": "Outcomes Off_against",
         "rawType": "int64",
         "type": "integer"
        },
        {
         "name": "Outcomes Blocks_against",
         "rawType": "int64",
         "type": "integer"
        },
        {
         "name": "Season",
         "rawType": "object",
         "type": "string"
        }
       ],
       "ref": "5fc38225-c085-4a7d-821d-60f4b5d05116",
       "rows": [
        [
         "0",
         "Alavés",
         "29",
         "38.0",
         "14746",
         "12723",
         "1946",
         "537",
         "45",
         "99",
         "798",
         "834",
         "182",
         "61",
         "90",
         "6",
         "10534",
         "77",
         "368",
         "29",
         "38.0",
         "18138",
         "15935",
         "2139",
         "672",
         "52",
         "139",
         "722",
         "913",
         "177",
         "62",
         "61",
         "1",
         "14251",
         "64",
         "340",
         "2024-2025"
        ],
        [
         "1",
         "Athletic Club",
         "31",
         "38.0",
         "17375",
         "15511",
         "1796",
         "472",
         "48",
         "116",
         "772",
         "836",
         "193",
         "73",
         "81",
         "1",
         "13665",
         "68",
         "300",
         "31",
         "38.0",
         "18891",
         "16899",
         "1908",
         "528",
         "52",
         "139",
         "592",
         "796",
         "155",
         "54",
         "61",
         "1",
         "14953",
         "84",
         "323",
         "2024-2025"
        ],
        [
         "2",
         "Atlético Madrid",
         "24",
         "38.0",
         "21418",
         "19514",
         "1832",
         "463",
         "76",
         "112",
         "675",
         "789",
         "190",
         "67",
         "65",
         "0",
         "17826",
         "72",
         "388",
         "24",
         "38.0",
         "19538",
         "17845",
         "1656",
         "460",
         "33",
         "124",
         "656",
         "664",
         "144",
         "41",
         "56",
         "0",
         "16246",
         "37",
         "304",
         "2024-2025"
        ]
       ],
       "shape": {
        "columns": 36,
        "rows": 3
       }
      },
      "text/html": [
       "<div>\n",
       "<style scoped>\n",
       "    .dataframe tbody tr th:only-of-type {\n",
       "        vertical-align: middle;\n",
       "    }\n",
       "\n",
       "    .dataframe tbody tr th {\n",
       "        vertical-align: top;\n",
       "    }\n",
       "\n",
       "    .dataframe thead th {\n",
       "        text-align: right;\n",
       "    }\n",
       "</style>\n",
       "<table border=\"1\" class=\"dataframe\">\n",
       "  <thead>\n",
       "    <tr style=\"text-align: right;\">\n",
       "      <th></th>\n",
       "      <th>Squad</th>\n",
       "      <th>Unnamed: 1_level_0 # Pl_for</th>\n",
       "      <th>Unnamed: 2_level_0 90s_for</th>\n",
       "      <th>Unnamed: 3_level_0 Att_for</th>\n",
       "      <th>Pass Types Live_for</th>\n",
       "      <th>Pass Types Dead_for</th>\n",
       "      <th>Pass Types FK_for</th>\n",
       "      <th>Pass Types TB_for</th>\n",
       "      <th>Pass Types Sw_for</th>\n",
       "      <th>Pass Types Crs_for</th>\n",
       "      <th>...</th>\n",
       "      <th>Pass Types Crs_against</th>\n",
       "      <th>Pass Types TI_against</th>\n",
       "      <th>Pass Types CK_against</th>\n",
       "      <th>Corner Kicks In_against</th>\n",
       "      <th>Corner Kicks Out_against</th>\n",
       "      <th>Corner Kicks Str_against</th>\n",
       "      <th>Outcomes Cmp_against</th>\n",
       "      <th>Outcomes Off_against</th>\n",
       "      <th>Outcomes Blocks_against</th>\n",
       "      <th>Season</th>\n",
       "    </tr>\n",
       "  </thead>\n",
       "  <tbody>\n",
       "    <tr>\n",
       "      <th>0</th>\n",
       "      <td>Alavés</td>\n",
       "      <td>29</td>\n",
       "      <td>38.0</td>\n",
       "      <td>14746</td>\n",
       "      <td>12723</td>\n",
       "      <td>1946</td>\n",
       "      <td>537</td>\n",
       "      <td>45</td>\n",
       "      <td>99</td>\n",
       "      <td>798</td>\n",
       "      <td>...</td>\n",
       "      <td>722</td>\n",
       "      <td>913</td>\n",
       "      <td>177</td>\n",
       "      <td>62</td>\n",
       "      <td>61</td>\n",
       "      <td>1</td>\n",
       "      <td>14251</td>\n",
       "      <td>64</td>\n",
       "      <td>340</td>\n",
       "      <td>2024-2025</td>\n",
       "    </tr>\n",
       "    <tr>\n",
       "      <th>1</th>\n",
       "      <td>Athletic Club</td>\n",
       "      <td>31</td>\n",
       "      <td>38.0</td>\n",
       "      <td>17375</td>\n",
       "      <td>15511</td>\n",
       "      <td>1796</td>\n",
       "      <td>472</td>\n",
       "      <td>48</td>\n",
       "      <td>116</td>\n",
       "      <td>772</td>\n",
       "      <td>...</td>\n",
       "      <td>592</td>\n",
       "      <td>796</td>\n",
       "      <td>155</td>\n",
       "      <td>54</td>\n",
       "      <td>61</td>\n",
       "      <td>1</td>\n",
       "      <td>14953</td>\n",
       "      <td>84</td>\n",
       "      <td>323</td>\n",
       "      <td>2024-2025</td>\n",
       "    </tr>\n",
       "    <tr>\n",
       "      <th>2</th>\n",
       "      <td>Atlético Madrid</td>\n",
       "      <td>24</td>\n",
       "      <td>38.0</td>\n",
       "      <td>21418</td>\n",
       "      <td>19514</td>\n",
       "      <td>1832</td>\n",
       "      <td>463</td>\n",
       "      <td>76</td>\n",
       "      <td>112</td>\n",
       "      <td>675</td>\n",
       "      <td>...</td>\n",
       "      <td>656</td>\n",
       "      <td>664</td>\n",
       "      <td>144</td>\n",
       "      <td>41</td>\n",
       "      <td>56</td>\n",
       "      <td>0</td>\n",
       "      <td>16246</td>\n",
       "      <td>37</td>\n",
       "      <td>304</td>\n",
       "      <td>2024-2025</td>\n",
       "    </tr>\n",
       "  </tbody>\n",
       "</table>\n",
       "<p>3 rows × 36 columns</p>\n",
       "</div>"
      ],
      "text/plain": [
       "             Squad  Unnamed: 1_level_0 # Pl_for  Unnamed: 2_level_0 90s_for  \\\n",
       "0           Alavés                           29                        38.0   \n",
       "1    Athletic Club                           31                        38.0   \n",
       "2  Atlético Madrid                           24                        38.0   \n",
       "\n",
       "   Unnamed: 3_level_0 Att_for  Pass Types Live_for  Pass Types Dead_for  \\\n",
       "0                       14746                12723                 1946   \n",
       "1                       17375                15511                 1796   \n",
       "2                       21418                19514                 1832   \n",
       "\n",
       "   Pass Types FK_for  Pass Types TB_for  Pass Types Sw_for  \\\n",
       "0                537                 45                 99   \n",
       "1                472                 48                116   \n",
       "2                463                 76                112   \n",
       "\n",
       "   Pass Types Crs_for  ...  Pass Types Crs_against  Pass Types TI_against  \\\n",
       "0                 798  ...                     722                    913   \n",
       "1                 772  ...                     592                    796   \n",
       "2                 675  ...                     656                    664   \n",
       "\n",
       "   Pass Types CK_against  Corner Kicks In_against  Corner Kicks Out_against  \\\n",
       "0                    177                       62                        61   \n",
       "1                    155                       54                        61   \n",
       "2                    144                       41                        56   \n",
       "\n",
       "   Corner Kicks Str_against  Outcomes Cmp_against  Outcomes Off_against  \\\n",
       "0                         1                 14251                    64   \n",
       "1                         1                 14953                    84   \n",
       "2                         0                 16246                    37   \n",
       "\n",
       "   Outcomes Blocks_against     Season  \n",
       "0                      340  2024-2025  \n",
       "1                      323  2024-2025  \n",
       "2                      304  2024-2025  \n",
       "\n",
       "[3 rows x 36 columns]"
      ]
     },
     "metadata": {},
     "output_type": "display_data"
    },
    {
     "name": "stdout",
     "output_type": "stream",
     "text": [
      "================================================================================\n",
      "📄 Archivo: keeper_adv.csv\n",
      "\n"
     ]
    },
    {
     "data": {
      "application/vnd.microsoft.datawrangler.viewer.v0+json": {
       "columns": [
        {
         "name": "index",
         "rawType": "int64",
         "type": "integer"
        },
        {
         "name": "Squad",
         "rawType": "object",
         "type": "string"
        },
        {
         "name": "Unnamed: 1_level_0 # Pl_for",
         "rawType": "int64",
         "type": "integer"
        },
        {
         "name": "Unnamed: 2_level_0 90s_for",
         "rawType": "float64",
         "type": "float"
        },
        {
         "name": "Tackles Tkl_for",
         "rawType": "int64",
         "type": "integer"
        },
        {
         "name": "Tackles TklW_for",
         "rawType": "int64",
         "type": "integer"
        },
        {
         "name": "Tackles Def 3rd_for",
         "rawType": "int64",
         "type": "integer"
        },
        {
         "name": "Tackles Mid 3rd_for",
         "rawType": "int64",
         "type": "integer"
        },
        {
         "name": "Tackles Att 3rd_for",
         "rawType": "int64",
         "type": "integer"
        },
        {
         "name": "Challenges Tkl_for",
         "rawType": "int64",
         "type": "integer"
        },
        {
         "name": "Challenges Att_for",
         "rawType": "int64",
         "type": "integer"
        },
        {
         "name": "Challenges Tkl%_for",
         "rawType": "float64",
         "type": "float"
        },
        {
         "name": "Challenges Lost_for",
         "rawType": "int64",
         "type": "integer"
        },
        {
         "name": "Blocks Blocks_for",
         "rawType": "int64",
         "type": "integer"
        },
        {
         "name": "Blocks Sh_for",
         "rawType": "int64",
         "type": "integer"
        },
        {
         "name": "Blocks Pass_for",
         "rawType": "int64",
         "type": "integer"
        },
        {
         "name": "Unnamed: 15_level_0 Int_for",
         "rawType": "int64",
         "type": "integer"
        },
        {
         "name": "Unnamed: 16_level_0 Tkl+Int_for",
         "rawType": "int64",
         "type": "integer"
        },
        {
         "name": "Unnamed: 17_level_0 Clr_for",
         "rawType": "int64",
         "type": "integer"
        },
        {
         "name": "Unnamed: 18_level_0 Err_for",
         "rawType": "int64",
         "type": "integer"
        },
        {
         "name": "Unnamed: 1_level_0 # Pl_against",
         "rawType": "int64",
         "type": "integer"
        },
        {
         "name": "Unnamed: 2_level_0 90s_against",
         "rawType": "float64",
         "type": "float"
        },
        {
         "name": "Tackles Tkl_against",
         "rawType": "int64",
         "type": "integer"
        },
        {
         "name": "Tackles TklW_against",
         "rawType": "int64",
         "type": "integer"
        },
        {
         "name": "Tackles Def 3rd_against",
         "rawType": "int64",
         "type": "integer"
        },
        {
         "name": "Tackles Mid 3rd_against",
         "rawType": "int64",
         "type": "integer"
        },
        {
         "name": "Tackles Att 3rd_against",
         "rawType": "int64",
         "type": "integer"
        },
        {
         "name": "Challenges Tkl_against",
         "rawType": "int64",
         "type": "integer"
        },
        {
         "name": "Challenges Att_against",
         "rawType": "int64",
         "type": "integer"
        },
        {
         "name": "Challenges Tkl%_against",
         "rawType": "float64",
         "type": "float"
        },
        {
         "name": "Challenges Lost_against",
         "rawType": "int64",
         "type": "integer"
        },
        {
         "name": "Blocks Blocks_against",
         "rawType": "int64",
         "type": "integer"
        },
        {
         "name": "Blocks Sh_against",
         "rawType": "int64",
         "type": "integer"
        },
        {
         "name": "Blocks Pass_against",
         "rawType": "int64",
         "type": "integer"
        },
        {
         "name": "Unnamed: 15_level_0 Int_against",
         "rawType": "int64",
         "type": "integer"
        },
        {
         "name": "Unnamed: 16_level_0 Tkl+Int_against",
         "rawType": "int64",
         "type": "integer"
        },
        {
         "name": "Unnamed: 17_level_0 Clr_against",
         "rawType": "int64",
         "type": "integer"
        },
        {
         "name": "Unnamed: 18_level_0 Err_against",
         "rawType": "int64",
         "type": "integer"
        },
        {
         "name": "Season",
         "rawType": "object",
         "type": "string"
        }
       ],
       "ref": "10d83399-bbbb-4a86-94fe-5d9a10372780",
       "rows": [
        [
         "0",
         "Alavés",
         "29",
         "38.0",
         "737",
         "459",
         "346",
         "307",
         "84",
         "348",
         "726",
         "47.9",
         "378",
         "382",
         "96",
         "286",
         "309",
         "1046",
         "918",
         "10",
         "29",
         "38.0",
         "552",
         "328",
         "258",
         "224",
         "70",
         "245",
         "430",
         "57.0",
         "185",
         "380",
         "89",
         "291",
         "287",
         "839",
         "1123",
         "16",
         "2024-2025"
        ],
        [
         "1",
         "Athletic Club",
         "31",
         "38.0",
         "577",
         "345",
         "240",
         "252",
         "85",
         "296",
         "579",
         "51.1",
         "283",
         "353",
         "72",
         "281",
         "344",
         "921",
         "911",
         "25",
         "31",
         "38.0",
         "789",
         "471",
         "428",
         "289",
         "72",
         "388",
         "716",
         "54.2",
         "328",
         "348",
         "112",
         "236",
         "361",
         "1150",
         "951",
         "24",
         "2024-2025"
        ],
        [
         "2",
         "Atlético Madrid",
         "24",
         "38.0",
         "619",
         "375",
         "305",
         "238",
         "76",
         "319",
         "627",
         "50.9",
         "308",
         "358",
         "97",
         "261",
         "260",
         "879",
         "818",
         "25",
         "24",
         "38.0",
         "579",
         "365",
         "276",
         "206",
         "97",
         "305",
         "581",
         "52.5",
         "276",
         "437",
         "110",
         "327",
         "369",
         "948",
         "969",
         "35",
         "2024-2025"
        ]
       ],
       "shape": {
        "columns": 38,
        "rows": 3
       }
      },
      "text/html": [
       "<div>\n",
       "<style scoped>\n",
       "    .dataframe tbody tr th:only-of-type {\n",
       "        vertical-align: middle;\n",
       "    }\n",
       "\n",
       "    .dataframe tbody tr th {\n",
       "        vertical-align: top;\n",
       "    }\n",
       "\n",
       "    .dataframe thead th {\n",
       "        text-align: right;\n",
       "    }\n",
       "</style>\n",
       "<table border=\"1\" class=\"dataframe\">\n",
       "  <thead>\n",
       "    <tr style=\"text-align: right;\">\n",
       "      <th></th>\n",
       "      <th>Squad</th>\n",
       "      <th>Unnamed: 1_level_0 # Pl_for</th>\n",
       "      <th>Unnamed: 2_level_0 90s_for</th>\n",
       "      <th>Tackles Tkl_for</th>\n",
       "      <th>Tackles TklW_for</th>\n",
       "      <th>Tackles Def 3rd_for</th>\n",
       "      <th>Tackles Mid 3rd_for</th>\n",
       "      <th>Tackles Att 3rd_for</th>\n",
       "      <th>Challenges Tkl_for</th>\n",
       "      <th>Challenges Att_for</th>\n",
       "      <th>...</th>\n",
       "      <th>Challenges Tkl%_against</th>\n",
       "      <th>Challenges Lost_against</th>\n",
       "      <th>Blocks Blocks_against</th>\n",
       "      <th>Blocks Sh_against</th>\n",
       "      <th>Blocks Pass_against</th>\n",
       "      <th>Unnamed: 15_level_0 Int_against</th>\n",
       "      <th>Unnamed: 16_level_0 Tkl+Int_against</th>\n",
       "      <th>Unnamed: 17_level_0 Clr_against</th>\n",
       "      <th>Unnamed: 18_level_0 Err_against</th>\n",
       "      <th>Season</th>\n",
       "    </tr>\n",
       "  </thead>\n",
       "  <tbody>\n",
       "    <tr>\n",
       "      <th>0</th>\n",
       "      <td>Alavés</td>\n",
       "      <td>29</td>\n",
       "      <td>38.0</td>\n",
       "      <td>737</td>\n",
       "      <td>459</td>\n",
       "      <td>346</td>\n",
       "      <td>307</td>\n",
       "      <td>84</td>\n",
       "      <td>348</td>\n",
       "      <td>726</td>\n",
       "      <td>...</td>\n",
       "      <td>57.0</td>\n",
       "      <td>185</td>\n",
       "      <td>380</td>\n",
       "      <td>89</td>\n",
       "      <td>291</td>\n",
       "      <td>287</td>\n",
       "      <td>839</td>\n",
       "      <td>1123</td>\n",
       "      <td>16</td>\n",
       "      <td>2024-2025</td>\n",
       "    </tr>\n",
       "    <tr>\n",
       "      <th>1</th>\n",
       "      <td>Athletic Club</td>\n",
       "      <td>31</td>\n",
       "      <td>38.0</td>\n",
       "      <td>577</td>\n",
       "      <td>345</td>\n",
       "      <td>240</td>\n",
       "      <td>252</td>\n",
       "      <td>85</td>\n",
       "      <td>296</td>\n",
       "      <td>579</td>\n",
       "      <td>...</td>\n",
       "      <td>54.2</td>\n",
       "      <td>328</td>\n",
       "      <td>348</td>\n",
       "      <td>112</td>\n",
       "      <td>236</td>\n",
       "      <td>361</td>\n",
       "      <td>1150</td>\n",
       "      <td>951</td>\n",
       "      <td>24</td>\n",
       "      <td>2024-2025</td>\n",
       "    </tr>\n",
       "    <tr>\n",
       "      <th>2</th>\n",
       "      <td>Atlético Madrid</td>\n",
       "      <td>24</td>\n",
       "      <td>38.0</td>\n",
       "      <td>619</td>\n",
       "      <td>375</td>\n",
       "      <td>305</td>\n",
       "      <td>238</td>\n",
       "      <td>76</td>\n",
       "      <td>319</td>\n",
       "      <td>627</td>\n",
       "      <td>...</td>\n",
       "      <td>52.5</td>\n",
       "      <td>276</td>\n",
       "      <td>437</td>\n",
       "      <td>110</td>\n",
       "      <td>327</td>\n",
       "      <td>369</td>\n",
       "      <td>948</td>\n",
       "      <td>969</td>\n",
       "      <td>35</td>\n",
       "      <td>2024-2025</td>\n",
       "    </tr>\n",
       "  </tbody>\n",
       "</table>\n",
       "<p>3 rows × 38 columns</p>\n",
       "</div>"
      ],
      "text/plain": [
       "             Squad  Unnamed: 1_level_0 # Pl_for  Unnamed: 2_level_0 90s_for  \\\n",
       "0           Alavés                           29                        38.0   \n",
       "1    Athletic Club                           31                        38.0   \n",
       "2  Atlético Madrid                           24                        38.0   \n",
       "\n",
       "   Tackles Tkl_for  Tackles TklW_for  Tackles Def 3rd_for  \\\n",
       "0              737               459                  346   \n",
       "1              577               345                  240   \n",
       "2              619               375                  305   \n",
       "\n",
       "   Tackles Mid 3rd_for  Tackles Att 3rd_for  Challenges Tkl_for  \\\n",
       "0                  307                   84                 348   \n",
       "1                  252                   85                 296   \n",
       "2                  238                   76                 319   \n",
       "\n",
       "   Challenges Att_for  ...  Challenges Tkl%_against  Challenges Lost_against  \\\n",
       "0                 726  ...                     57.0                      185   \n",
       "1                 579  ...                     54.2                      328   \n",
       "2                 627  ...                     52.5                      276   \n",
       "\n",
       "   Blocks Blocks_against  Blocks Sh_against  Blocks Pass_against  \\\n",
       "0                    380                 89                  291   \n",
       "1                    348                112                  236   \n",
       "2                    437                110                  327   \n",
       "\n",
       "   Unnamed: 15_level_0 Int_against  Unnamed: 16_level_0 Tkl+Int_against  \\\n",
       "0                              287                                  839   \n",
       "1                              361                                 1150   \n",
       "2                              369                                  948   \n",
       "\n",
       "   Unnamed: 17_level_0 Clr_against  Unnamed: 18_level_0 Err_against     Season  \n",
       "0                             1123                               16  2024-2025  \n",
       "1                              951                               24  2024-2025  \n",
       "2                              969                               35  2024-2025  \n",
       "\n",
       "[3 rows x 38 columns]"
      ]
     },
     "metadata": {},
     "output_type": "display_data"
    },
    {
     "name": "stdout",
     "output_type": "stream",
     "text": [
      "================================================================================\n",
      "📄 Archivo: misc.csv\n",
      "\n"
     ]
    },
    {
     "data": {
      "application/vnd.microsoft.datawrangler.viewer.v0+json": {
       "columns": [
        {
         "name": "index",
         "rawType": "int64",
         "type": "integer"
        },
        {
         "name": "Squad",
         "rawType": "object",
         "type": "string"
        },
        {
         "name": "Unnamed: 1_level_0 # Pl_for",
         "rawType": "int64",
         "type": "integer"
        },
        {
         "name": "Unnamed: 2_level_0 90s_for",
         "rawType": "float64",
         "type": "float"
        },
        {
         "name": "Performance CrdY_for",
         "rawType": "int64",
         "type": "integer"
        },
        {
         "name": "Performance CrdR_for",
         "rawType": "int64",
         "type": "integer"
        },
        {
         "name": "Performance 2CrdY_for",
         "rawType": "int64",
         "type": "integer"
        },
        {
         "name": "Performance Fls_for",
         "rawType": "int64",
         "type": "integer"
        },
        {
         "name": "Performance Fld_for",
         "rawType": "int64",
         "type": "integer"
        },
        {
         "name": "Performance Off_for",
         "rawType": "int64",
         "type": "integer"
        },
        {
         "name": "Performance Crs_for",
         "rawType": "int64",
         "type": "integer"
        },
        {
         "name": "Performance Int_for",
         "rawType": "int64",
         "type": "integer"
        },
        {
         "name": "Performance TklW_for",
         "rawType": "int64",
         "type": "integer"
        },
        {
         "name": "Performance PKwon_for",
         "rawType": "int64",
         "type": "integer"
        },
        {
         "name": "Performance PKcon_for",
         "rawType": "int64",
         "type": "integer"
        },
        {
         "name": "Performance OG_for",
         "rawType": "int64",
         "type": "integer"
        },
        {
         "name": "Performance Recov_for",
         "rawType": "int64",
         "type": "integer"
        },
        {
         "name": "Aerial Duels Won_for",
         "rawType": "int64",
         "type": "integer"
        },
        {
         "name": "Aerial Duels Lost_for",
         "rawType": "int64",
         "type": "integer"
        },
        {
         "name": "Aerial Duels Won%_for",
         "rawType": "float64",
         "type": "float"
        },
        {
         "name": "Unnamed: 1_level_0 # Pl_against",
         "rawType": "int64",
         "type": "integer"
        },
        {
         "name": "Unnamed: 2_level_0 90s_against",
         "rawType": "float64",
         "type": "float"
        },
        {
         "name": "Performance CrdY_against",
         "rawType": "int64",
         "type": "integer"
        },
        {
         "name": "Performance CrdR_against",
         "rawType": "int64",
         "type": "integer"
        },
        {
         "name": "Performance 2CrdY_against",
         "rawType": "int64",
         "type": "integer"
        },
        {
         "name": "Performance Fls_against",
         "rawType": "int64",
         "type": "integer"
        },
        {
         "name": "Performance Fld_against",
         "rawType": "int64",
         "type": "integer"
        },
        {
         "name": "Performance Off_against",
         "rawType": "int64",
         "type": "integer"
        },
        {
         "name": "Performance Crs_against",
         "rawType": "int64",
         "type": "integer"
        },
        {
         "name": "Performance Int_against",
         "rawType": "int64",
         "type": "integer"
        },
        {
         "name": "Performance TklW_against",
         "rawType": "int64",
         "type": "integer"
        },
        {
         "name": "Performance PKwon_against",
         "rawType": "int64",
         "type": "integer"
        },
        {
         "name": "Performance PKcon_against",
         "rawType": "int64",
         "type": "integer"
        },
        {
         "name": "Performance OG_against",
         "rawType": "int64",
         "type": "integer"
        },
        {
         "name": "Performance Recov_against",
         "rawType": "int64",
         "type": "integer"
        },
        {
         "name": "Aerial Duels Won_against",
         "rawType": "int64",
         "type": "integer"
        },
        {
         "name": "Aerial Duels Lost_against",
         "rawType": "int64",
         "type": "integer"
        },
        {
         "name": "Aerial Duels Won%_against",
         "rawType": "float64",
         "type": "float"
        },
        {
         "name": "Season",
         "rawType": "object",
         "type": "string"
        }
       ],
       "ref": "8bba8d51-1792-4512-bf1b-5aa287e5a59e",
       "rows": [
        [
         "0",
         "Alavés",
         "29",
         "38.0",
         "107",
         "5",
         "2",
         "623",
         "476",
         "77",
         "798",
         "309",
         "459",
         "8",
         "11",
         "2",
         "1499",
         "639",
         "694",
         "47.9",
         "29",
         "38.0",
         "107",
         "5",
         "0",
         "504",
         "590",
         "64",
         "722",
         "287",
         "328",
         "6",
         "11",
         "0",
         "1420",
         "694",
         "639",
         "52.1",
         "2024-2025"
        ],
        [
         "1",
         "Athletic Club",
         "31",
         "38.0",
         "64",
         "3",
         "1",
         "483",
         "386",
         "68",
         "772",
         "344",
         "345",
         "5",
         "5",
         "1",
         "1735",
         "496",
         "514",
         "49.1",
         "31",
         "38.0",
         "83",
         "4",
         "2",
         "406",
         "462",
         "84",
         "592",
         "361",
         "471",
         "5",
         "6",
         "1",
         "1624",
         "514",
         "496",
         "50.9",
         "2024-2025"
        ],
        [
         "2",
         "Atlético Madrid",
         "24",
         "38.0",
         "75",
         "3",
         "0",
         "412",
         "427",
         "72",
         "675",
         "260",
         "375",
         "4",
         "5",
         "2",
         "1563",
         "445",
         "420",
         "51.4",
         "24",
         "38.0",
         "68",
         "0",
         "0",
         "450",
         "384",
         "37",
         "656",
         "369",
         "365",
         "3",
         "7",
         "0",
         "1547",
         "420",
         "445",
         "48.6",
         "2024-2025"
        ]
       ],
       "shape": {
        "columns": 38,
        "rows": 3
       }
      },
      "text/html": [
       "<div>\n",
       "<style scoped>\n",
       "    .dataframe tbody tr th:only-of-type {\n",
       "        vertical-align: middle;\n",
       "    }\n",
       "\n",
       "    .dataframe tbody tr th {\n",
       "        vertical-align: top;\n",
       "    }\n",
       "\n",
       "    .dataframe thead th {\n",
       "        text-align: right;\n",
       "    }\n",
       "</style>\n",
       "<table border=\"1\" class=\"dataframe\">\n",
       "  <thead>\n",
       "    <tr style=\"text-align: right;\">\n",
       "      <th></th>\n",
       "      <th>Squad</th>\n",
       "      <th>Unnamed: 1_level_0 # Pl_for</th>\n",
       "      <th>Unnamed: 2_level_0 90s_for</th>\n",
       "      <th>Performance CrdY_for</th>\n",
       "      <th>Performance CrdR_for</th>\n",
       "      <th>Performance 2CrdY_for</th>\n",
       "      <th>Performance Fls_for</th>\n",
       "      <th>Performance Fld_for</th>\n",
       "      <th>Performance Off_for</th>\n",
       "      <th>Performance Crs_for</th>\n",
       "      <th>...</th>\n",
       "      <th>Performance Int_against</th>\n",
       "      <th>Performance TklW_against</th>\n",
       "      <th>Performance PKwon_against</th>\n",
       "      <th>Performance PKcon_against</th>\n",
       "      <th>Performance OG_against</th>\n",
       "      <th>Performance Recov_against</th>\n",
       "      <th>Aerial Duels Won_against</th>\n",
       "      <th>Aerial Duels Lost_against</th>\n",
       "      <th>Aerial Duels Won%_against</th>\n",
       "      <th>Season</th>\n",
       "    </tr>\n",
       "  </thead>\n",
       "  <tbody>\n",
       "    <tr>\n",
       "      <th>0</th>\n",
       "      <td>Alavés</td>\n",
       "      <td>29</td>\n",
       "      <td>38.0</td>\n",
       "      <td>107</td>\n",
       "      <td>5</td>\n",
       "      <td>2</td>\n",
       "      <td>623</td>\n",
       "      <td>476</td>\n",
       "      <td>77</td>\n",
       "      <td>798</td>\n",
       "      <td>...</td>\n",
       "      <td>287</td>\n",
       "      <td>328</td>\n",
       "      <td>6</td>\n",
       "      <td>11</td>\n",
       "      <td>0</td>\n",
       "      <td>1420</td>\n",
       "      <td>694</td>\n",
       "      <td>639</td>\n",
       "      <td>52.1</td>\n",
       "      <td>2024-2025</td>\n",
       "    </tr>\n",
       "    <tr>\n",
       "      <th>1</th>\n",
       "      <td>Athletic Club</td>\n",
       "      <td>31</td>\n",
       "      <td>38.0</td>\n",
       "      <td>64</td>\n",
       "      <td>3</td>\n",
       "      <td>1</td>\n",
       "      <td>483</td>\n",
       "      <td>386</td>\n",
       "      <td>68</td>\n",
       "      <td>772</td>\n",
       "      <td>...</td>\n",
       "      <td>361</td>\n",
       "      <td>471</td>\n",
       "      <td>5</td>\n",
       "      <td>6</td>\n",
       "      <td>1</td>\n",
       "      <td>1624</td>\n",
       "      <td>514</td>\n",
       "      <td>496</td>\n",
       "      <td>50.9</td>\n",
       "      <td>2024-2025</td>\n",
       "    </tr>\n",
       "    <tr>\n",
       "      <th>2</th>\n",
       "      <td>Atlético Madrid</td>\n",
       "      <td>24</td>\n",
       "      <td>38.0</td>\n",
       "      <td>75</td>\n",
       "      <td>3</td>\n",
       "      <td>0</td>\n",
       "      <td>412</td>\n",
       "      <td>427</td>\n",
       "      <td>72</td>\n",
       "      <td>675</td>\n",
       "      <td>...</td>\n",
       "      <td>369</td>\n",
       "      <td>365</td>\n",
       "      <td>3</td>\n",
       "      <td>7</td>\n",
       "      <td>0</td>\n",
       "      <td>1547</td>\n",
       "      <td>420</td>\n",
       "      <td>445</td>\n",
       "      <td>48.6</td>\n",
       "      <td>2024-2025</td>\n",
       "    </tr>\n",
       "  </tbody>\n",
       "</table>\n",
       "<p>3 rows × 38 columns</p>\n",
       "</div>"
      ],
      "text/plain": [
       "             Squad  Unnamed: 1_level_0 # Pl_for  Unnamed: 2_level_0 90s_for  \\\n",
       "0           Alavés                           29                        38.0   \n",
       "1    Athletic Club                           31                        38.0   \n",
       "2  Atlético Madrid                           24                        38.0   \n",
       "\n",
       "   Performance CrdY_for  Performance CrdR_for  Performance 2CrdY_for  \\\n",
       "0                   107                     5                      2   \n",
       "1                    64                     3                      1   \n",
       "2                    75                     3                      0   \n",
       "\n",
       "   Performance Fls_for  Performance Fld_for  Performance Off_for  \\\n",
       "0                  623                  476                   77   \n",
       "1                  483                  386                   68   \n",
       "2                  412                  427                   72   \n",
       "\n",
       "   Performance Crs_for  ...  Performance Int_against  \\\n",
       "0                  798  ...                      287   \n",
       "1                  772  ...                      361   \n",
       "2                  675  ...                      369   \n",
       "\n",
       "   Performance TklW_against  Performance PKwon_against  \\\n",
       "0                       328                          6   \n",
       "1                       471                          5   \n",
       "2                       365                          3   \n",
       "\n",
       "   Performance PKcon_against  Performance OG_against  \\\n",
       "0                         11                       0   \n",
       "1                          6                       1   \n",
       "2                          7                       0   \n",
       "\n",
       "   Performance Recov_against  Aerial Duels Won_against  \\\n",
       "0                       1420                       694   \n",
       "1                       1624                       514   \n",
       "2                       1547                       420   \n",
       "\n",
       "   Aerial Duels Lost_against  Aerial Duels Won%_against     Season  \n",
       "0                        639                       52.1  2024-2025  \n",
       "1                        496                       50.9  2024-2025  \n",
       "2                        445                       48.6  2024-2025  \n",
       "\n",
       "[3 rows x 38 columns]"
      ]
     },
     "metadata": {},
     "output_type": "display_data"
    },
    {
     "name": "stdout",
     "output_type": "stream",
     "text": [
      "================================================================================\n",
      "📄 Archivo: overall.csv\n",
      "\n"
     ]
    },
    {
     "data": {
      "application/vnd.microsoft.datawrangler.viewer.v0+json": {
       "columns": [
        {
         "name": "index",
         "rawType": "int64",
         "type": "integer"
        },
        {
         "name": "Rk",
         "rawType": "int64",
         "type": "integer"
        },
        {
         "name": "Squad",
         "rawType": "object",
         "type": "string"
        },
        {
         "name": "MP",
         "rawType": "int64",
         "type": "integer"
        },
        {
         "name": "W",
         "rawType": "int64",
         "type": "integer"
        },
        {
         "name": "D",
         "rawType": "int64",
         "type": "integer"
        },
        {
         "name": "L",
         "rawType": "int64",
         "type": "integer"
        },
        {
         "name": "GF",
         "rawType": "int64",
         "type": "integer"
        },
        {
         "name": "GA",
         "rawType": "int64",
         "type": "integer"
        },
        {
         "name": "GD",
         "rawType": "int64",
         "type": "integer"
        },
        {
         "name": "Pts",
         "rawType": "int64",
         "type": "integer"
        },
        {
         "name": "Pts/MP",
         "rawType": "float64",
         "type": "float"
        },
        {
         "name": "xG",
         "rawType": "float64",
         "type": "float"
        },
        {
         "name": "xGA",
         "rawType": "float64",
         "type": "float"
        },
        {
         "name": "xGD",
         "rawType": "float64",
         "type": "float"
        },
        {
         "name": "xGD/90",
         "rawType": "float64",
         "type": "float"
        },
        {
         "name": "Attendance",
         "rawType": "float64",
         "type": "float"
        },
        {
         "name": "Top Team Scorer",
         "rawType": "object",
         "type": "string"
        },
        {
         "name": "Goalkeeper",
         "rawType": "object",
         "type": "string"
        },
        {
         "name": "Notes",
         "rawType": "object",
         "type": "string"
        },
        {
         "name": "Season",
         "rawType": "object",
         "type": "string"
        }
       ],
       "ref": "03c736c9-8b57-48a1-bc55-e8032c61d673",
       "rows": [
        [
         "0",
         "1",
         "Barcelona",
         "38",
         "28",
         "4",
         "6",
         "102",
         "39",
         "63",
         "88",
         "2.32",
         "91.5",
         "41.9",
         "49.5",
         "1.3",
         "45953.0",
         "Robert Lewandowski - 27",
         "Iñaki Peña",
         "→ Champions League via league finish",
         "2024-2025"
        ],
        [
         "1",
         "2",
         "Real Madrid",
         "38",
         "26",
         "6",
         "6",
         "78",
         "38",
         "40",
         "84",
         "2.21",
         "75.3",
         "42.8",
         "32.5",
         "0.86",
         "69807.0",
         "Kylian Mbappé - 31",
         "Thibaut Courtois",
         "→ Champions League via league finish",
         "2024-2025"
        ],
        [
         "2",
         "3",
         "Atlético Madrid",
         "38",
         "22",
         "10",
         "6",
         "68",
         "30",
         "38",
         "76",
         "2.0",
         "64.6",
         "33.4",
         "31.2",
         "0.82",
         "60883.0",
         "Alexander Sørloth - 20",
         "Jan Oblak",
         "→ Champions League via league finish",
         "2024-2025"
        ]
       ],
       "shape": {
        "columns": 20,
        "rows": 3
       }
      },
      "text/html": [
       "<div>\n",
       "<style scoped>\n",
       "    .dataframe tbody tr th:only-of-type {\n",
       "        vertical-align: middle;\n",
       "    }\n",
       "\n",
       "    .dataframe tbody tr th {\n",
       "        vertical-align: top;\n",
       "    }\n",
       "\n",
       "    .dataframe thead th {\n",
       "        text-align: right;\n",
       "    }\n",
       "</style>\n",
       "<table border=\"1\" class=\"dataframe\">\n",
       "  <thead>\n",
       "    <tr style=\"text-align: right;\">\n",
       "      <th></th>\n",
       "      <th>Rk</th>\n",
       "      <th>Squad</th>\n",
       "      <th>MP</th>\n",
       "      <th>W</th>\n",
       "      <th>D</th>\n",
       "      <th>L</th>\n",
       "      <th>GF</th>\n",
       "      <th>GA</th>\n",
       "      <th>GD</th>\n",
       "      <th>Pts</th>\n",
       "      <th>Pts/MP</th>\n",
       "      <th>xG</th>\n",
       "      <th>xGA</th>\n",
       "      <th>xGD</th>\n",
       "      <th>xGD/90</th>\n",
       "      <th>Attendance</th>\n",
       "      <th>Top Team Scorer</th>\n",
       "      <th>Goalkeeper</th>\n",
       "      <th>Notes</th>\n",
       "      <th>Season</th>\n",
       "    </tr>\n",
       "  </thead>\n",
       "  <tbody>\n",
       "    <tr>\n",
       "      <th>0</th>\n",
       "      <td>1</td>\n",
       "      <td>Barcelona</td>\n",
       "      <td>38</td>\n",
       "      <td>28</td>\n",
       "      <td>4</td>\n",
       "      <td>6</td>\n",
       "      <td>102</td>\n",
       "      <td>39</td>\n",
       "      <td>63</td>\n",
       "      <td>88</td>\n",
       "      <td>2.32</td>\n",
       "      <td>91.5</td>\n",
       "      <td>41.9</td>\n",
       "      <td>49.5</td>\n",
       "      <td>1.30</td>\n",
       "      <td>45953.0</td>\n",
       "      <td>Robert Lewandowski - 27</td>\n",
       "      <td>Iñaki Peña</td>\n",
       "      <td>→ Champions League via league finish</td>\n",
       "      <td>2024-2025</td>\n",
       "    </tr>\n",
       "    <tr>\n",
       "      <th>1</th>\n",
       "      <td>2</td>\n",
       "      <td>Real Madrid</td>\n",
       "      <td>38</td>\n",
       "      <td>26</td>\n",
       "      <td>6</td>\n",
       "      <td>6</td>\n",
       "      <td>78</td>\n",
       "      <td>38</td>\n",
       "      <td>40</td>\n",
       "      <td>84</td>\n",
       "      <td>2.21</td>\n",
       "      <td>75.3</td>\n",
       "      <td>42.8</td>\n",
       "      <td>32.5</td>\n",
       "      <td>0.86</td>\n",
       "      <td>69807.0</td>\n",
       "      <td>Kylian Mbappé - 31</td>\n",
       "      <td>Thibaut Courtois</td>\n",
       "      <td>→ Champions League via league finish</td>\n",
       "      <td>2024-2025</td>\n",
       "    </tr>\n",
       "    <tr>\n",
       "      <th>2</th>\n",
       "      <td>3</td>\n",
       "      <td>Atlético Madrid</td>\n",
       "      <td>38</td>\n",
       "      <td>22</td>\n",
       "      <td>10</td>\n",
       "      <td>6</td>\n",
       "      <td>68</td>\n",
       "      <td>30</td>\n",
       "      <td>38</td>\n",
       "      <td>76</td>\n",
       "      <td>2.00</td>\n",
       "      <td>64.6</td>\n",
       "      <td>33.4</td>\n",
       "      <td>31.2</td>\n",
       "      <td>0.82</td>\n",
       "      <td>60883.0</td>\n",
       "      <td>Alexander Sørloth - 20</td>\n",
       "      <td>Jan Oblak</td>\n",
       "      <td>→ Champions League via league finish</td>\n",
       "      <td>2024-2025</td>\n",
       "    </tr>\n",
       "  </tbody>\n",
       "</table>\n",
       "</div>"
      ],
      "text/plain": [
       "   Rk            Squad  MP   W   D  L   GF  GA  GD  Pts  Pts/MP    xG   xGA  \\\n",
       "0   1        Barcelona  38  28   4  6  102  39  63   88    2.32  91.5  41.9   \n",
       "1   2      Real Madrid  38  26   6  6   78  38  40   84    2.21  75.3  42.8   \n",
       "2   3  Atlético Madrid  38  22  10  6   68  30  38   76    2.00  64.6  33.4   \n",
       "\n",
       "    xGD  xGD/90  Attendance          Top Team Scorer        Goalkeeper  \\\n",
       "0  49.5    1.30     45953.0  Robert Lewandowski - 27        Iñaki Peña   \n",
       "1  32.5    0.86     69807.0       Kylian Mbappé - 31  Thibaut Courtois   \n",
       "2  31.2    0.82     60883.0   Alexander Sørloth - 20         Jan Oblak   \n",
       "\n",
       "                                  Notes     Season  \n",
       "0  → Champions League via league finish  2024-2025  \n",
       "1  → Champions League via league finish  2024-2025  \n",
       "2  → Champions League via league finish  2024-2025  "
      ]
     },
     "metadata": {},
     "output_type": "display_data"
    },
    {
     "name": "stdout",
     "output_type": "stream",
     "text": [
      "================================================================================\n",
      "📄 Archivo: passing.csv\n",
      "\n"
     ]
    },
    {
     "data": {
      "application/vnd.microsoft.datawrangler.viewer.v0+json": {
       "columns": [
        {
         "name": "index",
         "rawType": "int64",
         "type": "integer"
        },
        {
         "name": "Squad",
         "rawType": "object",
         "type": "string"
        },
        {
         "name": "Unnamed: 1_level_0 # Pl_for",
         "rawType": "int64",
         "type": "integer"
        },
        {
         "name": "Unnamed: 2_level_0 90s_for",
         "rawType": "float64",
         "type": "float"
        },
        {
         "name": "Goals GA_for",
         "rawType": "int64",
         "type": "integer"
        },
        {
         "name": "Goals PKA_for",
         "rawType": "int64",
         "type": "integer"
        },
        {
         "name": "Goals FK_for",
         "rawType": "int64",
         "type": "integer"
        },
        {
         "name": "Goals CK_for",
         "rawType": "int64",
         "type": "integer"
        },
        {
         "name": "Goals OG_for",
         "rawType": "int64",
         "type": "integer"
        },
        {
         "name": "Expected PSxG_for",
         "rawType": "float64",
         "type": "float"
        },
        {
         "name": "Expected PSxG/SoT_for",
         "rawType": "float64",
         "type": "float"
        },
        {
         "name": "Expected PSxG+/-_for",
         "rawType": "float64",
         "type": "float"
        },
        {
         "name": "Expected /90_for",
         "rawType": "float64",
         "type": "float"
        },
        {
         "name": "Launched Cmp_for",
         "rawType": "int64",
         "type": "integer"
        },
        {
         "name": "Launched Att_for",
         "rawType": "int64",
         "type": "integer"
        },
        {
         "name": "Launched Cmp%_for",
         "rawType": "float64",
         "type": "float"
        },
        {
         "name": "Passes Att (GK)_for",
         "rawType": "int64",
         "type": "integer"
        },
        {
         "name": "Passes Thr_for",
         "rawType": "int64",
         "type": "integer"
        },
        {
         "name": "Passes Launch%_for",
         "rawType": "float64",
         "type": "float"
        },
        {
         "name": "Passes AvgLen_for",
         "rawType": "float64",
         "type": "float"
        },
        {
         "name": "Goal Kicks Att_for",
         "rawType": "int64",
         "type": "integer"
        },
        {
         "name": "Goal Kicks Launch%_for",
         "rawType": "float64",
         "type": "float"
        },
        {
         "name": "Goal Kicks AvgLen_for",
         "rawType": "float64",
         "type": "float"
        },
        {
         "name": "Crosses Opp_for",
         "rawType": "int64",
         "type": "integer"
        },
        {
         "name": "Crosses Stp_for",
         "rawType": "int64",
         "type": "integer"
        },
        {
         "name": "Crosses Stp%_for",
         "rawType": "float64",
         "type": "float"
        },
        {
         "name": "Sweeper #OPA_for",
         "rawType": "int64",
         "type": "integer"
        },
        {
         "name": "Sweeper #OPA/90_for",
         "rawType": "float64",
         "type": "float"
        },
        {
         "name": "Sweeper AvgDist_for",
         "rawType": "float64",
         "type": "float"
        },
        {
         "name": "Unnamed: 1_level_0 # Pl_against",
         "rawType": "int64",
         "type": "integer"
        },
        {
         "name": "Unnamed: 2_level_0 90s_against",
         "rawType": "float64",
         "type": "float"
        },
        {
         "name": "Goals GA_against",
         "rawType": "int64",
         "type": "integer"
        },
        {
         "name": "Goals PKA_against",
         "rawType": "int64",
         "type": "integer"
        },
        {
         "name": "Goals FK_against",
         "rawType": "int64",
         "type": "integer"
        },
        {
         "name": "Goals CK_against",
         "rawType": "int64",
         "type": "integer"
        },
        {
         "name": "Goals OG_against",
         "rawType": "int64",
         "type": "integer"
        },
        {
         "name": "Expected PSxG_against",
         "rawType": "float64",
         "type": "float"
        },
        {
         "name": "Expected PSxG/SoT_against",
         "rawType": "float64",
         "type": "float"
        },
        {
         "name": "Expected PSxG+/-_against",
         "rawType": "float64",
         "type": "float"
        },
        {
         "name": "Expected /90_against",
         "rawType": "float64",
         "type": "float"
        },
        {
         "name": "Launched Cmp_against",
         "rawType": "int64",
         "type": "integer"
        },
        {
         "name": "Launched Att_against",
         "rawType": "int64",
         "type": "integer"
        },
        {
         "name": "Launched Cmp%_against",
         "rawType": "float64",
         "type": "float"
        },
        {
         "name": "Passes Att (GK)_against",
         "rawType": "int64",
         "type": "integer"
        },
        {
         "name": "Passes Thr_against",
         "rawType": "int64",
         "type": "integer"
        },
        {
         "name": "Passes Launch%_against",
         "rawType": "float64",
         "type": "float"
        },
        {
         "name": "Passes AvgLen_against",
         "rawType": "float64",
         "type": "float"
        },
        {
         "name": "Goal Kicks Att_against",
         "rawType": "int64",
         "type": "integer"
        },
        {
         "name": "Goal Kicks Launch%_against",
         "rawType": "float64",
         "type": "float"
        },
        {
         "name": "Goal Kicks AvgLen_against",
         "rawType": "float64",
         "type": "float"
        },
        {
         "name": "Crosses Opp_against",
         "rawType": "int64",
         "type": "integer"
        },
        {
         "name": "Crosses Stp_against",
         "rawType": "int64",
         "type": "integer"
        },
        {
         "name": "Crosses Stp%_against",
         "rawType": "float64",
         "type": "float"
        },
        {
         "name": "Sweeper #OPA_against",
         "rawType": "int64",
         "type": "integer"
        },
        {
         "name": "Sweeper #OPA/90_against",
         "rawType": "float64",
         "type": "float"
        },
        {
         "name": "Sweeper AvgDist_against",
         "rawType": "float64",
         "type": "float"
        },
        {
         "name": "Season",
         "rawType": "object",
         "type": "string"
        }
       ],
       "ref": "52eb6238-bdb0-4bac-8d90-1c5c0ae84a7e",
       "rows": [
        [
         "0",
         "Alavés",
         "3",
         "38.0",
         "48",
         "11",
         "2",
         "4",
         "2",
         "46.0",
         "0.29",
         "0.0",
         "0.0",
         "361",
         "877",
         "41.2",
         "869",
         "82",
         "71.5",
         "47.7",
         "307",
         "83.4",
         "58.6",
         "552",
         "36",
         "6.5",
         "31",
         "0.82",
         "12.7",
         "3",
         "38.0",
         "38",
         "9",
         "0",
         "4",
         "0",
         "43.8",
         "0.27",
         "5.8",
         "0.15",
         "207",
         "550",
         "37.6",
         "1023",
         "198",
         "39.2",
         "35.7",
         "302",
         "49.3",
         "41.0",
         "621",
         "48",
         "7.7",
         "51",
         "1.34",
         "14.8",
         "2024-2025"
        ],
        [
         "1",
         "Athletic Club",
         "3",
         "38.0",
         "29",
         "3",
         "2",
         "4",
         "1",
         "31.5",
         "0.25",
         "3.5",
         "0.09",
         "190",
         "540",
         "35.2",
         "948",
         "157",
         "39.9",
         "34.4",
         "229",
         "70.7",
         "52.7",
         "449",
         "41",
         "9.1",
         "48",
         "1.26",
         "15.5",
         "3",
         "38.0",
         "54",
         "3",
         "0",
         "10",
         "1",
         "51.7",
         "0.31",
         "-1.3",
         "-0.03",
         "228",
         "598",
         "38.1",
         "1195",
         "188",
         "35.6",
         "33.8",
         "337",
         "51.3",
         "41.8",
         "598",
         "36",
         "6.0",
         "32",
         "0.84",
         "12.8",
         "2024-2025"
        ],
        [
         "2",
         "Atlético Madrid",
         "2",
         "38.0",
         "30",
         "5",
         "1",
         "3",
         "2",
         "25.7",
         "0.19",
         "-2.3",
         "-0.06",
         "110",
         "286",
         "38.5",
         "683",
         "194",
         "24.3",
         "30.2",
         "323",
         "37.2",
         "34.9",
         "511",
         "30",
         "5.9",
         "28",
         "0.74",
         "14.0",
         "2",
         "38.0",
         "68",
         "6",
         "2",
         "4",
         "0",
         "69.2",
         "0.36",
         "1.2",
         "0.03",
         "193",
         "531",
         "36.3",
         "1011",
         "164",
         "40.1",
         "36.3",
         "285",
         "44.2",
         "38.9",
         "505",
         "38",
         "7.5",
         "52",
         "1.37",
         "14.6",
         "2024-2025"
        ]
       ],
       "shape": {
        "columns": 56,
        "rows": 3
       }
      },
      "text/html": [
       "<div>\n",
       "<style scoped>\n",
       "    .dataframe tbody tr th:only-of-type {\n",
       "        vertical-align: middle;\n",
       "    }\n",
       "\n",
       "    .dataframe tbody tr th {\n",
       "        vertical-align: top;\n",
       "    }\n",
       "\n",
       "    .dataframe thead th {\n",
       "        text-align: right;\n",
       "    }\n",
       "</style>\n",
       "<table border=\"1\" class=\"dataframe\">\n",
       "  <thead>\n",
       "    <tr style=\"text-align: right;\">\n",
       "      <th></th>\n",
       "      <th>Squad</th>\n",
       "      <th>Unnamed: 1_level_0 # Pl_for</th>\n",
       "      <th>Unnamed: 2_level_0 90s_for</th>\n",
       "      <th>Goals GA_for</th>\n",
       "      <th>Goals PKA_for</th>\n",
       "      <th>Goals FK_for</th>\n",
       "      <th>Goals CK_for</th>\n",
       "      <th>Goals OG_for</th>\n",
       "      <th>Expected PSxG_for</th>\n",
       "      <th>Expected PSxG/SoT_for</th>\n",
       "      <th>...</th>\n",
       "      <th>Goal Kicks Att_against</th>\n",
       "      <th>Goal Kicks Launch%_against</th>\n",
       "      <th>Goal Kicks AvgLen_against</th>\n",
       "      <th>Crosses Opp_against</th>\n",
       "      <th>Crosses Stp_against</th>\n",
       "      <th>Crosses Stp%_against</th>\n",
       "      <th>Sweeper #OPA_against</th>\n",
       "      <th>Sweeper #OPA/90_against</th>\n",
       "      <th>Sweeper AvgDist_against</th>\n",
       "      <th>Season</th>\n",
       "    </tr>\n",
       "  </thead>\n",
       "  <tbody>\n",
       "    <tr>\n",
       "      <th>0</th>\n",
       "      <td>Alavés</td>\n",
       "      <td>3</td>\n",
       "      <td>38.0</td>\n",
       "      <td>48</td>\n",
       "      <td>11</td>\n",
       "      <td>2</td>\n",
       "      <td>4</td>\n",
       "      <td>2</td>\n",
       "      <td>46.0</td>\n",
       "      <td>0.29</td>\n",
       "      <td>...</td>\n",
       "      <td>302</td>\n",
       "      <td>49.3</td>\n",
       "      <td>41.0</td>\n",
       "      <td>621</td>\n",
       "      <td>48</td>\n",
       "      <td>7.7</td>\n",
       "      <td>51</td>\n",
       "      <td>1.34</td>\n",
       "      <td>14.8</td>\n",
       "      <td>2024-2025</td>\n",
       "    </tr>\n",
       "    <tr>\n",
       "      <th>1</th>\n",
       "      <td>Athletic Club</td>\n",
       "      <td>3</td>\n",
       "      <td>38.0</td>\n",
       "      <td>29</td>\n",
       "      <td>3</td>\n",
       "      <td>2</td>\n",
       "      <td>4</td>\n",
       "      <td>1</td>\n",
       "      <td>31.5</td>\n",
       "      <td>0.25</td>\n",
       "      <td>...</td>\n",
       "      <td>337</td>\n",
       "      <td>51.3</td>\n",
       "      <td>41.8</td>\n",
       "      <td>598</td>\n",
       "      <td>36</td>\n",
       "      <td>6.0</td>\n",
       "      <td>32</td>\n",
       "      <td>0.84</td>\n",
       "      <td>12.8</td>\n",
       "      <td>2024-2025</td>\n",
       "    </tr>\n",
       "    <tr>\n",
       "      <th>2</th>\n",
       "      <td>Atlético Madrid</td>\n",
       "      <td>2</td>\n",
       "      <td>38.0</td>\n",
       "      <td>30</td>\n",
       "      <td>5</td>\n",
       "      <td>1</td>\n",
       "      <td>3</td>\n",
       "      <td>2</td>\n",
       "      <td>25.7</td>\n",
       "      <td>0.19</td>\n",
       "      <td>...</td>\n",
       "      <td>285</td>\n",
       "      <td>44.2</td>\n",
       "      <td>38.9</td>\n",
       "      <td>505</td>\n",
       "      <td>38</td>\n",
       "      <td>7.5</td>\n",
       "      <td>52</td>\n",
       "      <td>1.37</td>\n",
       "      <td>14.6</td>\n",
       "      <td>2024-2025</td>\n",
       "    </tr>\n",
       "  </tbody>\n",
       "</table>\n",
       "<p>3 rows × 56 columns</p>\n",
       "</div>"
      ],
      "text/plain": [
       "             Squad  Unnamed: 1_level_0 # Pl_for  Unnamed: 2_level_0 90s_for  \\\n",
       "0           Alavés                            3                        38.0   \n",
       "1    Athletic Club                            3                        38.0   \n",
       "2  Atlético Madrid                            2                        38.0   \n",
       "\n",
       "   Goals GA_for  Goals PKA_for  Goals FK_for  Goals CK_for  Goals OG_for  \\\n",
       "0            48             11             2             4             2   \n",
       "1            29              3             2             4             1   \n",
       "2            30              5             1             3             2   \n",
       "\n",
       "   Expected PSxG_for  Expected PSxG/SoT_for  ...  Goal Kicks Att_against  \\\n",
       "0               46.0                   0.29  ...                     302   \n",
       "1               31.5                   0.25  ...                     337   \n",
       "2               25.7                   0.19  ...                     285   \n",
       "\n",
       "   Goal Kicks Launch%_against  Goal Kicks AvgLen_against  Crosses Opp_against  \\\n",
       "0                        49.3                       41.0                  621   \n",
       "1                        51.3                       41.8                  598   \n",
       "2                        44.2                       38.9                  505   \n",
       "\n",
       "   Crosses Stp_against  Crosses Stp%_against  Sweeper #OPA_against  \\\n",
       "0                   48                   7.7                    51   \n",
       "1                   36                   6.0                    32   \n",
       "2                   38                   7.5                    52   \n",
       "\n",
       "   Sweeper #OPA/90_against  Sweeper AvgDist_against     Season  \n",
       "0                     1.34                     14.8  2024-2025  \n",
       "1                     0.84                     12.8  2024-2025  \n",
       "2                     1.37                     14.6  2024-2025  \n",
       "\n",
       "[3 rows x 56 columns]"
      ]
     },
     "metadata": {},
     "output_type": "display_data"
    },
    {
     "name": "stdout",
     "output_type": "stream",
     "text": [
      "================================================================================\n",
      "📄 Archivo: pass_types.csv\n",
      "\n"
     ]
    },
    {
     "data": {
      "application/vnd.microsoft.datawrangler.viewer.v0+json": {
       "columns": [
        {
         "name": "index",
         "rawType": "int64",
         "type": "integer"
        },
        {
         "name": "Squad",
         "rawType": "object",
         "type": "string"
        },
        {
         "name": "Unnamed: 1_level_0 # Pl_for",
         "rawType": "int64",
         "type": "integer"
        },
        {
         "name": "Unnamed: 2_level_0 90s_for",
         "rawType": "float64",
         "type": "float"
        },
        {
         "name": "Standard Gls_for",
         "rawType": "int64",
         "type": "integer"
        },
        {
         "name": "Standard Sh_for",
         "rawType": "int64",
         "type": "integer"
        },
        {
         "name": "Standard SoT_for",
         "rawType": "int64",
         "type": "integer"
        },
        {
         "name": "Standard SoT%_for",
         "rawType": "float64",
         "type": "float"
        },
        {
         "name": "Standard Sh/90_for",
         "rawType": "float64",
         "type": "float"
        },
        {
         "name": "Standard SoT/90_for",
         "rawType": "float64",
         "type": "float"
        },
        {
         "name": "Standard G/Sh_for",
         "rawType": "float64",
         "type": "float"
        },
        {
         "name": "Standard G/SoT_for",
         "rawType": "float64",
         "type": "float"
        },
        {
         "name": "Standard Dist_for",
         "rawType": "float64",
         "type": "float"
        },
        {
         "name": "Standard FK_for",
         "rawType": "int64",
         "type": "integer"
        },
        {
         "name": "Standard PK_for",
         "rawType": "int64",
         "type": "integer"
        },
        {
         "name": "Standard PKatt_for",
         "rawType": "int64",
         "type": "integer"
        },
        {
         "name": "Expected xG_for",
         "rawType": "float64",
         "type": "float"
        },
        {
         "name": "Expected npxG_for",
         "rawType": "float64",
         "type": "float"
        },
        {
         "name": "Expected npxG/Sh_for",
         "rawType": "float64",
         "type": "float"
        },
        {
         "name": "Expected G-xG_for",
         "rawType": "float64",
         "type": "float"
        },
        {
         "name": "Expected np:G-xG_for",
         "rawType": "float64",
         "type": "float"
        },
        {
         "name": "Unnamed: 1_level_0 # Pl_against",
         "rawType": "int64",
         "type": "integer"
        },
        {
         "name": "Unnamed: 2_level_0 90s_against",
         "rawType": "float64",
         "type": "float"
        },
        {
         "name": "Standard Gls_against",
         "rawType": "int64",
         "type": "integer"
        },
        {
         "name": "Standard Sh_against",
         "rawType": "int64",
         "type": "integer"
        },
        {
         "name": "Standard SoT_against",
         "rawType": "int64",
         "type": "integer"
        },
        {
         "name": "Standard SoT%_against",
         "rawType": "float64",
         "type": "float"
        },
        {
         "name": "Standard Sh/90_against",
         "rawType": "float64",
         "type": "float"
        },
        {
         "name": "Standard SoT/90_against",
         "rawType": "float64",
         "type": "float"
        },
        {
         "name": "Standard G/Sh_against",
         "rawType": "float64",
         "type": "float"
        },
        {
         "name": "Standard G/SoT_against",
         "rawType": "float64",
         "type": "float"
        },
        {
         "name": "Standard Dist_against",
         "rawType": "float64",
         "type": "float"
        },
        {
         "name": "Standard FK_against",
         "rawType": "int64",
         "type": "integer"
        },
        {
         "name": "Standard PK_against",
         "rawType": "int64",
         "type": "integer"
        },
        {
         "name": "Standard PKatt_against",
         "rawType": "int64",
         "type": "integer"
        },
        {
         "name": "Expected xG_against",
         "rawType": "float64",
         "type": "float"
        },
        {
         "name": "Expected npxG_against",
         "rawType": "float64",
         "type": "float"
        },
        {
         "name": "Expected npxG/Sh_against",
         "rawType": "float64",
         "type": "float"
        },
        {
         "name": "Expected G-xG_against",
         "rawType": "float64",
         "type": "float"
        },
        {
         "name": "Expected np:G-xG_against",
         "rawType": "float64",
         "type": "float"
        },
        {
         "name": "Season",
         "rawType": "object",
         "type": "string"
        }
       ],
       "ref": "111d9f72-05e6-4d34-9984-ace084ff1643",
       "rows": [
        [
         "0",
         "Alavés",
         "29",
         "38.0",
         "38",
         "393",
         "123",
         "31.3",
         "10.34",
         "3.24",
         "0.07",
         "0.24",
         "17.8",
         "10",
         "9",
         "11",
         "42.8",
         "34.1",
         "0.09",
         "-4.8",
         "-5.1",
         "29",
         "38.0",
         "46",
         "395",
         "121",
         "30.6",
         "10.39",
         "3.18",
         "0.09",
         "0.29",
         "17.6",
         "17",
         "11",
         "11",
         "47.0",
         "38.5",
         "0.1",
         "-1.0",
         "-3.5",
         "2024-2025"
        ],
        [
         "1",
         "Athletic Club",
         "31",
         "38.0",
         "53",
         "462",
         "148",
         "32.0",
         "12.16",
         "3.89",
         "0.11",
         "0.34",
         "17.4",
         "8",
         "3",
         "6",
         "53.0",
         "48.2",
         "0.11",
         "0.0",
         "1.8",
         "31",
         "38.0",
         "28",
         "338",
         "108",
         "32.0",
         "8.89",
         "2.84",
         "0.07",
         "0.23",
         "17.6",
         "9",
         "3",
         "5",
         "37.8",
         "33.9",
         "0.1",
         "-9.8",
         "-8.9",
         "2024-2025"
        ],
        [
         "2",
         "Atlético Madrid",
         "24",
         "38.0",
         "68",
         "463",
         "174",
         "37.6",
         "12.18",
         "4.58",
         "0.13",
         "0.36",
         "17.0",
         "13",
         "6",
         "7",
         "64.6",
         "59.3",
         "0.13",
         "3.4",
         "2.7",
         "24",
         "38.0",
         "28",
         "387",
         "111",
         "28.7",
         "10.18",
         "2.92",
         "0.06",
         "0.21",
         "18.6",
         "14",
         "5",
         "5",
         "33.4",
         "29.5",
         "0.08",
         "-5.4",
         "-6.5",
         "2024-2025"
        ]
       ],
       "shape": {
        "columns": 40,
        "rows": 3
       }
      },
      "text/html": [
       "<div>\n",
       "<style scoped>\n",
       "    .dataframe tbody tr th:only-of-type {\n",
       "        vertical-align: middle;\n",
       "    }\n",
       "\n",
       "    .dataframe tbody tr th {\n",
       "        vertical-align: top;\n",
       "    }\n",
       "\n",
       "    .dataframe thead th {\n",
       "        text-align: right;\n",
       "    }\n",
       "</style>\n",
       "<table border=\"1\" class=\"dataframe\">\n",
       "  <thead>\n",
       "    <tr style=\"text-align: right;\">\n",
       "      <th></th>\n",
       "      <th>Squad</th>\n",
       "      <th>Unnamed: 1_level_0 # Pl_for</th>\n",
       "      <th>Unnamed: 2_level_0 90s_for</th>\n",
       "      <th>Standard Gls_for</th>\n",
       "      <th>Standard Sh_for</th>\n",
       "      <th>Standard SoT_for</th>\n",
       "      <th>Standard SoT%_for</th>\n",
       "      <th>Standard Sh/90_for</th>\n",
       "      <th>Standard SoT/90_for</th>\n",
       "      <th>Standard G/Sh_for</th>\n",
       "      <th>...</th>\n",
       "      <th>Standard Dist_against</th>\n",
       "      <th>Standard FK_against</th>\n",
       "      <th>Standard PK_against</th>\n",
       "      <th>Standard PKatt_against</th>\n",
       "      <th>Expected xG_against</th>\n",
       "      <th>Expected npxG_against</th>\n",
       "      <th>Expected npxG/Sh_against</th>\n",
       "      <th>Expected G-xG_against</th>\n",
       "      <th>Expected np:G-xG_against</th>\n",
       "      <th>Season</th>\n",
       "    </tr>\n",
       "  </thead>\n",
       "  <tbody>\n",
       "    <tr>\n",
       "      <th>0</th>\n",
       "      <td>Alavés</td>\n",
       "      <td>29</td>\n",
       "      <td>38.0</td>\n",
       "      <td>38</td>\n",
       "      <td>393</td>\n",
       "      <td>123</td>\n",
       "      <td>31.3</td>\n",
       "      <td>10.34</td>\n",
       "      <td>3.24</td>\n",
       "      <td>0.07</td>\n",
       "      <td>...</td>\n",
       "      <td>17.6</td>\n",
       "      <td>17</td>\n",
       "      <td>11</td>\n",
       "      <td>11</td>\n",
       "      <td>47.0</td>\n",
       "      <td>38.5</td>\n",
       "      <td>0.10</td>\n",
       "      <td>-1.0</td>\n",
       "      <td>-3.5</td>\n",
       "      <td>2024-2025</td>\n",
       "    </tr>\n",
       "    <tr>\n",
       "      <th>1</th>\n",
       "      <td>Athletic Club</td>\n",
       "      <td>31</td>\n",
       "      <td>38.0</td>\n",
       "      <td>53</td>\n",
       "      <td>462</td>\n",
       "      <td>148</td>\n",
       "      <td>32.0</td>\n",
       "      <td>12.16</td>\n",
       "      <td>3.89</td>\n",
       "      <td>0.11</td>\n",
       "      <td>...</td>\n",
       "      <td>17.6</td>\n",
       "      <td>9</td>\n",
       "      <td>3</td>\n",
       "      <td>5</td>\n",
       "      <td>37.8</td>\n",
       "      <td>33.9</td>\n",
       "      <td>0.10</td>\n",
       "      <td>-9.8</td>\n",
       "      <td>-8.9</td>\n",
       "      <td>2024-2025</td>\n",
       "    </tr>\n",
       "    <tr>\n",
       "      <th>2</th>\n",
       "      <td>Atlético Madrid</td>\n",
       "      <td>24</td>\n",
       "      <td>38.0</td>\n",
       "      <td>68</td>\n",
       "      <td>463</td>\n",
       "      <td>174</td>\n",
       "      <td>37.6</td>\n",
       "      <td>12.18</td>\n",
       "      <td>4.58</td>\n",
       "      <td>0.13</td>\n",
       "      <td>...</td>\n",
       "      <td>18.6</td>\n",
       "      <td>14</td>\n",
       "      <td>5</td>\n",
       "      <td>5</td>\n",
       "      <td>33.4</td>\n",
       "      <td>29.5</td>\n",
       "      <td>0.08</td>\n",
       "      <td>-5.4</td>\n",
       "      <td>-6.5</td>\n",
       "      <td>2024-2025</td>\n",
       "    </tr>\n",
       "  </tbody>\n",
       "</table>\n",
       "<p>3 rows × 40 columns</p>\n",
       "</div>"
      ],
      "text/plain": [
       "             Squad  Unnamed: 1_level_0 # Pl_for  Unnamed: 2_level_0 90s_for  \\\n",
       "0           Alavés                           29                        38.0   \n",
       "1    Athletic Club                           31                        38.0   \n",
       "2  Atlético Madrid                           24                        38.0   \n",
       "\n",
       "   Standard Gls_for  Standard Sh_for  Standard SoT_for  Standard SoT%_for  \\\n",
       "0                38              393               123               31.3   \n",
       "1                53              462               148               32.0   \n",
       "2                68              463               174               37.6   \n",
       "\n",
       "   Standard Sh/90_for  Standard SoT/90_for  Standard G/Sh_for  ...  \\\n",
       "0               10.34                 3.24               0.07  ...   \n",
       "1               12.16                 3.89               0.11  ...   \n",
       "2               12.18                 4.58               0.13  ...   \n",
       "\n",
       "   Standard Dist_against  Standard FK_against  Standard PK_against  \\\n",
       "0                   17.6                   17                   11   \n",
       "1                   17.6                    9                    3   \n",
       "2                   18.6                   14                    5   \n",
       "\n",
       "   Standard PKatt_against  Expected xG_against  Expected npxG_against  \\\n",
       "0                      11                 47.0                   38.5   \n",
       "1                       5                 37.8                   33.9   \n",
       "2                       5                 33.4                   29.5   \n",
       "\n",
       "   Expected npxG/Sh_against  Expected G-xG_against  Expected np:G-xG_against  \\\n",
       "0                      0.10                   -1.0                      -3.5   \n",
       "1                      0.10                   -9.8                      -8.9   \n",
       "2                      0.08                   -5.4                      -6.5   \n",
       "\n",
       "      Season  \n",
       "0  2024-2025  \n",
       "1  2024-2025  \n",
       "2  2024-2025  \n",
       "\n",
       "[3 rows x 40 columns]"
      ]
     },
     "metadata": {},
     "output_type": "display_data"
    },
    {
     "name": "stdout",
     "output_type": "stream",
     "text": [
      "================================================================================\n",
      "📄 Archivo: playing_time.csv\n",
      "\n"
     ]
    },
    {
     "data": {
      "application/vnd.microsoft.datawrangler.viewer.v0+json": {
       "columns": [
        {
         "name": "index",
         "rawType": "int64",
         "type": "integer"
        },
        {
         "name": "Squad",
         "rawType": "object",
         "type": "string"
        },
        {
         "name": "Unnamed: 1_level_0 # Pl_for",
         "rawType": "int64",
         "type": "integer"
        },
        {
         "name": "Unnamed: 2_level_0 Age_for",
         "rawType": "float64",
         "type": "float"
        },
        {
         "name": "Playing Time MP_for",
         "rawType": "int64",
         "type": "integer"
        },
        {
         "name": "Playing Time Min_for",
         "rawType": "int64",
         "type": "integer"
        },
        {
         "name": "Playing Time Mn/MP_for",
         "rawType": "int64",
         "type": "integer"
        },
        {
         "name": "Playing Time Min%_for",
         "rawType": "int64",
         "type": "integer"
        },
        {
         "name": "Playing Time 90s_for",
         "rawType": "float64",
         "type": "float"
        },
        {
         "name": "Starts Starts_for",
         "rawType": "int64",
         "type": "integer"
        },
        {
         "name": "Starts Mn/Start_for",
         "rawType": "int64",
         "type": "integer"
        },
        {
         "name": "Starts Compl_for",
         "rawType": "float64",
         "type": "float"
        },
        {
         "name": "Subs Subs_for",
         "rawType": "int64",
         "type": "integer"
        },
        {
         "name": "Subs Mn/Sub_for",
         "rawType": "int64",
         "type": "integer"
        },
        {
         "name": "Subs unSub_for",
         "rawType": "int64",
         "type": "integer"
        },
        {
         "name": "Team Success PPM_for",
         "rawType": "float64",
         "type": "float"
        },
        {
         "name": "Team Success onG_for",
         "rawType": "int64",
         "type": "integer"
        },
        {
         "name": "Team Success onGA_for",
         "rawType": "int64",
         "type": "integer"
        },
        {
         "name": "Team Success +/-_for",
         "rawType": "int64",
         "type": "integer"
        },
        {
         "name": "Team Success +/-90_for",
         "rawType": "float64",
         "type": "float"
        },
        {
         "name": "Team Success (xG) onxG_for",
         "rawType": "float64",
         "type": "float"
        },
        {
         "name": "Team Success (xG) onxGA_for",
         "rawType": "float64",
         "type": "float"
        },
        {
         "name": "Team Success (xG) xG+/-_for",
         "rawType": "float64",
         "type": "float"
        },
        {
         "name": "Team Success (xG) xG+/-90_for",
         "rawType": "float64",
         "type": "float"
        },
        {
         "name": "Unnamed: 1_level_0 # Pl_against",
         "rawType": "int64",
         "type": "integer"
        },
        {
         "name": "Unnamed: 2_level_0 Age_against",
         "rawType": "float64",
         "type": "float"
        },
        {
         "name": "Playing Time MP_against",
         "rawType": "int64",
         "type": "integer"
        },
        {
         "name": "Playing Time Min_against",
         "rawType": "int64",
         "type": "integer"
        },
        {
         "name": "Playing Time Mn/MP_against",
         "rawType": "int64",
         "type": "integer"
        },
        {
         "name": "Playing Time Min%_against",
         "rawType": "int64",
         "type": "integer"
        },
        {
         "name": "Playing Time 90s_against",
         "rawType": "float64",
         "type": "float"
        },
        {
         "name": "Starts Starts_against",
         "rawType": "int64",
         "type": "integer"
        },
        {
         "name": "Starts Mn/Start_against",
         "rawType": "int64",
         "type": "integer"
        },
        {
         "name": "Starts Compl_against",
         "rawType": "float64",
         "type": "float"
        },
        {
         "name": "Subs Subs_against",
         "rawType": "int64",
         "type": "integer"
        },
        {
         "name": "Subs Mn/Sub_against",
         "rawType": "int64",
         "type": "integer"
        },
        {
         "name": "Subs unSub_against",
         "rawType": "int64",
         "type": "integer"
        },
        {
         "name": "Team Success PPM_against",
         "rawType": "float64",
         "type": "float"
        },
        {
         "name": "Team Success onG_against",
         "rawType": "int64",
         "type": "integer"
        },
        {
         "name": "Team Success onGA_against",
         "rawType": "int64",
         "type": "integer"
        },
        {
         "name": "Team Success +/-_against",
         "rawType": "int64",
         "type": "integer"
        },
        {
         "name": "Team Success +/-90_against",
         "rawType": "float64",
         "type": "float"
        },
        {
         "name": "Team Success (xG) onxG_against",
         "rawType": "float64",
         "type": "float"
        },
        {
         "name": "Team Success (xG) onxGA_against",
         "rawType": "float64",
         "type": "float"
        },
        {
         "name": "Team Success (xG) xG+/-_against",
         "rawType": "float64",
         "type": "float"
        },
        {
         "name": "Team Success (xG) xG+/-90_against",
         "rawType": "float64",
         "type": "float"
        },
        {
         "name": "Season",
         "rawType": "object",
         "type": "string"
        }
       ],
       "ref": "0bb1360a-b24a-4ce4-9892-df61cfac4e17",
       "rows": [
        [
         "0",
         "Alavés",
         "29",
         "26.6",
         "38",
         "3420",
         "90",
         "100",
         "38.0",
         "418",
         "82",
         "254.0",
         "161",
         "21",
         "275",
         "1.11",
         "38",
         "48",
         "-10",
         "-0.26",
         "42.8",
         "47.0",
         "-4.2",
         "-0.11",
         "29",
         "26.9",
         "38",
         "3420",
         "90",
         "100",
         "38.0",
         "418",
         "82",
         "238.0",
         "178",
         "24",
         "251",
         "1.58",
         "48",
         "38",
         "10",
         "0.26",
         "47.0",
         "42.8",
         "4.2",
         "0.11",
         "2024-2025"
        ],
        [
         "1",
         "Athletic Club",
         "31",
         "26.9",
         "38",
         "3420",
         "90",
         "100",
         "38.0",
         "418",
         "80",
         "226.0",
         "189",
         "23",
         "253",
         "1.84",
         "54",
         "29",
         "25",
         "0.66",
         "53.0",
         "37.8",
         "15.2",
         "0.4",
         "31",
         "26.6",
         "38",
         "3420",
         "90",
         "100",
         "38.0",
         "418",
         "80",
         "240.0",
         "177",
         "21",
         "240",
         "0.82",
         "29",
         "54",
         "-25",
         "-0.66",
         "37.8",
         "53.0",
         "-15.2",
         "-0.4",
         "2024-2025"
        ],
        [
         "2",
         "Atlético Madrid",
         "24",
         "28.4",
         "38",
         "3420",
         "90",
         "100",
         "38.0",
         "418",
         "78",
         "228.0",
         "188",
         "27",
         "242",
         "2.0",
         "68",
         "30",
         "38",
         "1.0",
         "64.6",
         "33.4",
         "31.2",
         "0.82",
         "24",
         "26.8",
         "38",
         "3420",
         "90",
         "100",
         "38.0",
         "418",
         "78",
         "246.0",
         "173",
         "20",
         "257",
         "0.74",
         "30",
         "68",
         "-38",
         "-1.0",
         "33.4",
         "64.6",
         "-31.2",
         "-0.82",
         "2024-2025"
        ]
       ],
       "shape": {
        "columns": 46,
        "rows": 3
       }
      },
      "text/html": [
       "<div>\n",
       "<style scoped>\n",
       "    .dataframe tbody tr th:only-of-type {\n",
       "        vertical-align: middle;\n",
       "    }\n",
       "\n",
       "    .dataframe tbody tr th {\n",
       "        vertical-align: top;\n",
       "    }\n",
       "\n",
       "    .dataframe thead th {\n",
       "        text-align: right;\n",
       "    }\n",
       "</style>\n",
       "<table border=\"1\" class=\"dataframe\">\n",
       "  <thead>\n",
       "    <tr style=\"text-align: right;\">\n",
       "      <th></th>\n",
       "      <th>Squad</th>\n",
       "      <th>Unnamed: 1_level_0 # Pl_for</th>\n",
       "      <th>Unnamed: 2_level_0 Age_for</th>\n",
       "      <th>Playing Time MP_for</th>\n",
       "      <th>Playing Time Min_for</th>\n",
       "      <th>Playing Time Mn/MP_for</th>\n",
       "      <th>Playing Time Min%_for</th>\n",
       "      <th>Playing Time 90s_for</th>\n",
       "      <th>Starts Starts_for</th>\n",
       "      <th>Starts Mn/Start_for</th>\n",
       "      <th>...</th>\n",
       "      <th>Team Success PPM_against</th>\n",
       "      <th>Team Success onG_against</th>\n",
       "      <th>Team Success onGA_against</th>\n",
       "      <th>Team Success +/-_against</th>\n",
       "      <th>Team Success +/-90_against</th>\n",
       "      <th>Team Success (xG) onxG_against</th>\n",
       "      <th>Team Success (xG) onxGA_against</th>\n",
       "      <th>Team Success (xG) xG+/-_against</th>\n",
       "      <th>Team Success (xG) xG+/-90_against</th>\n",
       "      <th>Season</th>\n",
       "    </tr>\n",
       "  </thead>\n",
       "  <tbody>\n",
       "    <tr>\n",
       "      <th>0</th>\n",
       "      <td>Alavés</td>\n",
       "      <td>29</td>\n",
       "      <td>26.6</td>\n",
       "      <td>38</td>\n",
       "      <td>3420</td>\n",
       "      <td>90</td>\n",
       "      <td>100</td>\n",
       "      <td>38.0</td>\n",
       "      <td>418</td>\n",
       "      <td>82</td>\n",
       "      <td>...</td>\n",
       "      <td>1.58</td>\n",
       "      <td>48</td>\n",
       "      <td>38</td>\n",
       "      <td>10</td>\n",
       "      <td>0.26</td>\n",
       "      <td>47.0</td>\n",
       "      <td>42.8</td>\n",
       "      <td>4.2</td>\n",
       "      <td>0.11</td>\n",
       "      <td>2024-2025</td>\n",
       "    </tr>\n",
       "    <tr>\n",
       "      <th>1</th>\n",
       "      <td>Athletic Club</td>\n",
       "      <td>31</td>\n",
       "      <td>26.9</td>\n",
       "      <td>38</td>\n",
       "      <td>3420</td>\n",
       "      <td>90</td>\n",
       "      <td>100</td>\n",
       "      <td>38.0</td>\n",
       "      <td>418</td>\n",
       "      <td>80</td>\n",
       "      <td>...</td>\n",
       "      <td>0.82</td>\n",
       "      <td>29</td>\n",
       "      <td>54</td>\n",
       "      <td>-25</td>\n",
       "      <td>-0.66</td>\n",
       "      <td>37.8</td>\n",
       "      <td>53.0</td>\n",
       "      <td>-15.2</td>\n",
       "      <td>-0.40</td>\n",
       "      <td>2024-2025</td>\n",
       "    </tr>\n",
       "    <tr>\n",
       "      <th>2</th>\n",
       "      <td>Atlético Madrid</td>\n",
       "      <td>24</td>\n",
       "      <td>28.4</td>\n",
       "      <td>38</td>\n",
       "      <td>3420</td>\n",
       "      <td>90</td>\n",
       "      <td>100</td>\n",
       "      <td>38.0</td>\n",
       "      <td>418</td>\n",
       "      <td>78</td>\n",
       "      <td>...</td>\n",
       "      <td>0.74</td>\n",
       "      <td>30</td>\n",
       "      <td>68</td>\n",
       "      <td>-38</td>\n",
       "      <td>-1.00</td>\n",
       "      <td>33.4</td>\n",
       "      <td>64.6</td>\n",
       "      <td>-31.2</td>\n",
       "      <td>-0.82</td>\n",
       "      <td>2024-2025</td>\n",
       "    </tr>\n",
       "  </tbody>\n",
       "</table>\n",
       "<p>3 rows × 46 columns</p>\n",
       "</div>"
      ],
      "text/plain": [
       "             Squad  Unnamed: 1_level_0 # Pl_for  Unnamed: 2_level_0 Age_for  \\\n",
       "0           Alavés                           29                        26.6   \n",
       "1    Athletic Club                           31                        26.9   \n",
       "2  Atlético Madrid                           24                        28.4   \n",
       "\n",
       "   Playing Time MP_for  Playing Time Min_for  Playing Time Mn/MP_for  \\\n",
       "0                   38                  3420                      90   \n",
       "1                   38                  3420                      90   \n",
       "2                   38                  3420                      90   \n",
       "\n",
       "   Playing Time Min%_for  Playing Time 90s_for  Starts Starts_for  \\\n",
       "0                    100                  38.0                418   \n",
       "1                    100                  38.0                418   \n",
       "2                    100                  38.0                418   \n",
       "\n",
       "   Starts Mn/Start_for  ...  Team Success PPM_against  \\\n",
       "0                   82  ...                      1.58   \n",
       "1                   80  ...                      0.82   \n",
       "2                   78  ...                      0.74   \n",
       "\n",
       "   Team Success onG_against  Team Success onGA_against  \\\n",
       "0                        48                         38   \n",
       "1                        29                         54   \n",
       "2                        30                         68   \n",
       "\n",
       "   Team Success +/-_against  Team Success +/-90_against  \\\n",
       "0                        10                        0.26   \n",
       "1                       -25                       -0.66   \n",
       "2                       -38                       -1.00   \n",
       "\n",
       "   Team Success (xG) onxG_against  Team Success (xG) onxGA_against  \\\n",
       "0                            47.0                             42.8   \n",
       "1                            37.8                             53.0   \n",
       "2                            33.4                             64.6   \n",
       "\n",
       "   Team Success (xG) xG+/-_against  Team Success (xG) xG+/-90_against  \\\n",
       "0                              4.2                               0.11   \n",
       "1                            -15.2                              -0.40   \n",
       "2                            -31.2                              -0.82   \n",
       "\n",
       "      Season  \n",
       "0  2024-2025  \n",
       "1  2024-2025  \n",
       "2  2024-2025  \n",
       "\n",
       "[3 rows x 46 columns]"
      ]
     },
     "metadata": {},
     "output_type": "display_data"
    },
    {
     "name": "stdout",
     "output_type": "stream",
     "text": [
      "================================================================================\n",
      "📄 Archivo: possession.csv\n",
      "\n"
     ]
    },
    {
     "data": {
      "application/vnd.microsoft.datawrangler.viewer.v0+json": {
       "columns": [
        {
         "name": "index",
         "rawType": "int64",
         "type": "integer"
        },
        {
         "name": "Squad",
         "rawType": "object",
         "type": "string"
        },
        {
         "name": "Unnamed: 1_level_0 # Pl_for",
         "rawType": "int64",
         "type": "integer"
        },
        {
         "name": "Unnamed: 2_level_0 90s_for",
         "rawType": "float64",
         "type": "float"
        },
        {
         "name": "SCA SCA_for",
         "rawType": "int64",
         "type": "integer"
        },
        {
         "name": "SCA SCA90_for",
         "rawType": "float64",
         "type": "float"
        },
        {
         "name": "SCA Types PassLive_for",
         "rawType": "int64",
         "type": "integer"
        },
        {
         "name": "SCA Types PassDead_for",
         "rawType": "int64",
         "type": "integer"
        },
        {
         "name": "SCA Types TO_for",
         "rawType": "int64",
         "type": "integer"
        },
        {
         "name": "SCA Types Sh_for",
         "rawType": "int64",
         "type": "integer"
        },
        {
         "name": "SCA Types Fld_for",
         "rawType": "int64",
         "type": "integer"
        },
        {
         "name": "SCA Types Def_for",
         "rawType": "int64",
         "type": "integer"
        },
        {
         "name": "GCA GCA_for",
         "rawType": "int64",
         "type": "integer"
        },
        {
         "name": "GCA GCA90_for",
         "rawType": "float64",
         "type": "float"
        },
        {
         "name": "GCA Types PassLive_for",
         "rawType": "int64",
         "type": "integer"
        },
        {
         "name": "GCA Types PassDead_for",
         "rawType": "int64",
         "type": "integer"
        },
        {
         "name": "GCA Types TO_for",
         "rawType": "int64",
         "type": "integer"
        },
        {
         "name": "GCA Types Sh_for",
         "rawType": "int64",
         "type": "integer"
        },
        {
         "name": "GCA Types Fld_for",
         "rawType": "int64",
         "type": "integer"
        },
        {
         "name": "GCA Types Def_for",
         "rawType": "int64",
         "type": "integer"
        },
        {
         "name": "Unnamed: 1_level_0 # Pl_against",
         "rawType": "int64",
         "type": "integer"
        },
        {
         "name": "Unnamed: 2_level_0 90s_against",
         "rawType": "float64",
         "type": "float"
        },
        {
         "name": "SCA SCA_against",
         "rawType": "int64",
         "type": "integer"
        },
        {
         "name": "SCA SCA90_against",
         "rawType": "float64",
         "type": "float"
        },
        {
         "name": "SCA Types PassLive_against",
         "rawType": "int64",
         "type": "integer"
        },
        {
         "name": "SCA Types PassDead_against",
         "rawType": "int64",
         "type": "integer"
        },
        {
         "name": "SCA Types TO_against",
         "rawType": "int64",
         "type": "integer"
        },
        {
         "name": "SCA Types Sh_against",
         "rawType": "int64",
         "type": "integer"
        },
        {
         "name": "SCA Types Fld_against",
         "rawType": "int64",
         "type": "integer"
        },
        {
         "name": "SCA Types Def_against",
         "rawType": "int64",
         "type": "integer"
        },
        {
         "name": "GCA GCA_against",
         "rawType": "int64",
         "type": "integer"
        },
        {
         "name": "GCA GCA90_against",
         "rawType": "float64",
         "type": "float"
        },
        {
         "name": "GCA Types PassLive_against",
         "rawType": "int64",
         "type": "integer"
        },
        {
         "name": "GCA Types PassDead_against",
         "rawType": "int64",
         "type": "integer"
        },
        {
         "name": "GCA Types TO_against",
         "rawType": "int64",
         "type": "integer"
        },
        {
         "name": "GCA Types Sh_against",
         "rawType": "int64",
         "type": "integer"
        },
        {
         "name": "GCA Types Fld_against",
         "rawType": "int64",
         "type": "integer"
        },
        {
         "name": "GCA Types Def_against",
         "rawType": "int64",
         "type": "integer"
        },
        {
         "name": "Season",
         "rawType": "object",
         "type": "string"
        }
       ],
       "ref": "1e4f8ba0-a4f4-4a96-959a-d94cfe6aabd6",
       "rows": [
        [
         "0",
         "Alavés",
         "29",
         "38.0",
         "690",
         "18.16",
         "465",
         "95",
         "26",
         "41",
         "48",
         "15",
         "61",
         "1.61",
         "39",
         "3",
         "3",
         "7",
         "9",
         "0",
         "29",
         "38.0",
         "736",
         "19.37",
         "496",
         "85",
         "62",
         "39",
         "47",
         "7",
         "81",
         "2.13",
         "52",
         "5",
         "8",
         "6",
         "10",
         "0",
         "2024-2025"
        ],
        [
         "1",
         "Athletic Club",
         "31",
         "38.0",
         "832",
         "21.89",
         "630",
         "65",
         "52",
         "38",
         "27",
         "20",
         "92",
         "2.42",
         "63",
         "8",
         "7",
         "8",
         "6",
         "0",
         "31",
         "38.0",
         "588",
         "15.47",
         "408",
         "66",
         "39",
         "34",
         "30",
         "11",
         "48",
         "1.26",
         "28",
         "5",
         "2",
         "5",
         "7",
         "1",
         "2024-2025"
        ],
        [
         "2",
         "Atlético Madrid",
         "24",
         "38.0",
         "826",
         "21.74",
         "657",
         "49",
         "39",
         "42",
         "24",
         "15",
         "123",
         "3.24",
         "100",
         "1",
         "7",
         "7",
         "5",
         "3",
         "24",
         "38.0",
         "678",
         "17.84",
         "506",
         "55",
         "45",
         "30",
         "36",
         "6",
         "45",
         "1.18",
         "27",
         "4",
         "3",
         "4",
         "7",
         "0",
         "2024-2025"
        ]
       ],
       "shape": {
        "columns": 38,
        "rows": 3
       }
      },
      "text/html": [
       "<div>\n",
       "<style scoped>\n",
       "    .dataframe tbody tr th:only-of-type {\n",
       "        vertical-align: middle;\n",
       "    }\n",
       "\n",
       "    .dataframe tbody tr th {\n",
       "        vertical-align: top;\n",
       "    }\n",
       "\n",
       "    .dataframe thead th {\n",
       "        text-align: right;\n",
       "    }\n",
       "</style>\n",
       "<table border=\"1\" class=\"dataframe\">\n",
       "  <thead>\n",
       "    <tr style=\"text-align: right;\">\n",
       "      <th></th>\n",
       "      <th>Squad</th>\n",
       "      <th>Unnamed: 1_level_0 # Pl_for</th>\n",
       "      <th>Unnamed: 2_level_0 90s_for</th>\n",
       "      <th>SCA SCA_for</th>\n",
       "      <th>SCA SCA90_for</th>\n",
       "      <th>SCA Types PassLive_for</th>\n",
       "      <th>SCA Types PassDead_for</th>\n",
       "      <th>SCA Types TO_for</th>\n",
       "      <th>SCA Types Sh_for</th>\n",
       "      <th>SCA Types Fld_for</th>\n",
       "      <th>...</th>\n",
       "      <th>SCA Types Def_against</th>\n",
       "      <th>GCA GCA_against</th>\n",
       "      <th>GCA GCA90_against</th>\n",
       "      <th>GCA Types PassLive_against</th>\n",
       "      <th>GCA Types PassDead_against</th>\n",
       "      <th>GCA Types TO_against</th>\n",
       "      <th>GCA Types Sh_against</th>\n",
       "      <th>GCA Types Fld_against</th>\n",
       "      <th>GCA Types Def_against</th>\n",
       "      <th>Season</th>\n",
       "    </tr>\n",
       "  </thead>\n",
       "  <tbody>\n",
       "    <tr>\n",
       "      <th>0</th>\n",
       "      <td>Alavés</td>\n",
       "      <td>29</td>\n",
       "      <td>38.0</td>\n",
       "      <td>690</td>\n",
       "      <td>18.16</td>\n",
       "      <td>465</td>\n",
       "      <td>95</td>\n",
       "      <td>26</td>\n",
       "      <td>41</td>\n",
       "      <td>48</td>\n",
       "      <td>...</td>\n",
       "      <td>7</td>\n",
       "      <td>81</td>\n",
       "      <td>2.13</td>\n",
       "      <td>52</td>\n",
       "      <td>5</td>\n",
       "      <td>8</td>\n",
       "      <td>6</td>\n",
       "      <td>10</td>\n",
       "      <td>0</td>\n",
       "      <td>2024-2025</td>\n",
       "    </tr>\n",
       "    <tr>\n",
       "      <th>1</th>\n",
       "      <td>Athletic Club</td>\n",
       "      <td>31</td>\n",
       "      <td>38.0</td>\n",
       "      <td>832</td>\n",
       "      <td>21.89</td>\n",
       "      <td>630</td>\n",
       "      <td>65</td>\n",
       "      <td>52</td>\n",
       "      <td>38</td>\n",
       "      <td>27</td>\n",
       "      <td>...</td>\n",
       "      <td>11</td>\n",
       "      <td>48</td>\n",
       "      <td>1.26</td>\n",
       "      <td>28</td>\n",
       "      <td>5</td>\n",
       "      <td>2</td>\n",
       "      <td>5</td>\n",
       "      <td>7</td>\n",
       "      <td>1</td>\n",
       "      <td>2024-2025</td>\n",
       "    </tr>\n",
       "    <tr>\n",
       "      <th>2</th>\n",
       "      <td>Atlético Madrid</td>\n",
       "      <td>24</td>\n",
       "      <td>38.0</td>\n",
       "      <td>826</td>\n",
       "      <td>21.74</td>\n",
       "      <td>657</td>\n",
       "      <td>49</td>\n",
       "      <td>39</td>\n",
       "      <td>42</td>\n",
       "      <td>24</td>\n",
       "      <td>...</td>\n",
       "      <td>6</td>\n",
       "      <td>45</td>\n",
       "      <td>1.18</td>\n",
       "      <td>27</td>\n",
       "      <td>4</td>\n",
       "      <td>3</td>\n",
       "      <td>4</td>\n",
       "      <td>7</td>\n",
       "      <td>0</td>\n",
       "      <td>2024-2025</td>\n",
       "    </tr>\n",
       "  </tbody>\n",
       "</table>\n",
       "<p>3 rows × 38 columns</p>\n",
       "</div>"
      ],
      "text/plain": [
       "             Squad  Unnamed: 1_level_0 # Pl_for  Unnamed: 2_level_0 90s_for  \\\n",
       "0           Alavés                           29                        38.0   \n",
       "1    Athletic Club                           31                        38.0   \n",
       "2  Atlético Madrid                           24                        38.0   \n",
       "\n",
       "   SCA SCA_for  SCA SCA90_for  SCA Types PassLive_for  SCA Types PassDead_for  \\\n",
       "0          690          18.16                     465                      95   \n",
       "1          832          21.89                     630                      65   \n",
       "2          826          21.74                     657                      49   \n",
       "\n",
       "   SCA Types TO_for  SCA Types Sh_for  SCA Types Fld_for  ...  \\\n",
       "0                26                41                 48  ...   \n",
       "1                52                38                 27  ...   \n",
       "2                39                42                 24  ...   \n",
       "\n",
       "   SCA Types Def_against  GCA GCA_against  GCA GCA90_against  \\\n",
       "0                      7               81               2.13   \n",
       "1                     11               48               1.26   \n",
       "2                      6               45               1.18   \n",
       "\n",
       "   GCA Types PassLive_against  GCA Types PassDead_against  \\\n",
       "0                          52                           5   \n",
       "1                          28                           5   \n",
       "2                          27                           4   \n",
       "\n",
       "   GCA Types TO_against  GCA Types Sh_against  GCA Types Fld_against  \\\n",
       "0                     8                     6                     10   \n",
       "1                     2                     5                      7   \n",
       "2                     3                     4                      7   \n",
       "\n",
       "   GCA Types Def_against     Season  \n",
       "0                      0  2024-2025  \n",
       "1                      1  2024-2025  \n",
       "2                      0  2024-2025  \n",
       "\n",
       "[3 rows x 38 columns]"
      ]
     },
     "metadata": {},
     "output_type": "display_data"
    },
    {
     "name": "stdout",
     "output_type": "stream",
     "text": [
      "================================================================================\n",
      "📄 Archivo: sca_gca.csv\n",
      "\n"
     ]
    },
    {
     "data": {
      "application/vnd.microsoft.datawrangler.viewer.v0+json": {
       "columns": [
        {
         "name": "index",
         "rawType": "int64",
         "type": "integer"
        },
        {
         "name": "Squad",
         "rawType": "object",
         "type": "string"
        },
        {
         "name": "Unnamed: 1_level_0 # Pl_for",
         "rawType": "int64",
         "type": "integer"
        },
        {
         "name": "Unnamed: 2_level_0 90s_for",
         "rawType": "float64",
         "type": "float"
        },
        {
         "name": "Total Cmp_for",
         "rawType": "int64",
         "type": "integer"
        },
        {
         "name": "Total Att_for",
         "rawType": "int64",
         "type": "integer"
        },
        {
         "name": "Total Cmp%_for",
         "rawType": "float64",
         "type": "float"
        },
        {
         "name": "Total TotDist_for",
         "rawType": "int64",
         "type": "integer"
        },
        {
         "name": "Total PrgDist_for",
         "rawType": "int64",
         "type": "integer"
        },
        {
         "name": "Short Cmp_for",
         "rawType": "int64",
         "type": "integer"
        },
        {
         "name": "Short Att_for",
         "rawType": "int64",
         "type": "integer"
        },
        {
         "name": "Short Cmp%_for",
         "rawType": "float64",
         "type": "float"
        },
        {
         "name": "Medium Cmp_for",
         "rawType": "int64",
         "type": "integer"
        },
        {
         "name": "Medium Att_for",
         "rawType": "int64",
         "type": "integer"
        },
        {
         "name": "Medium Cmp%_for",
         "rawType": "float64",
         "type": "float"
        },
        {
         "name": "Long Cmp_for",
         "rawType": "int64",
         "type": "integer"
        },
        {
         "name": "Long Att_for",
         "rawType": "int64",
         "type": "integer"
        },
        {
         "name": "Long Cmp%_for",
         "rawType": "float64",
         "type": "float"
        },
        {
         "name": "Unnamed: 17_level_0 Ast_for",
         "rawType": "int64",
         "type": "integer"
        },
        {
         "name": "Unnamed: 18_level_0 xAG_for",
         "rawType": "float64",
         "type": "float"
        },
        {
         "name": "Expected xA_for",
         "rawType": "float64",
         "type": "float"
        },
        {
         "name": "Expected A-xAG_for",
         "rawType": "float64",
         "type": "float"
        },
        {
         "name": "Unnamed: 21_level_0 KP_for",
         "rawType": "int64",
         "type": "integer"
        },
        {
         "name": "Unnamed: 22_level_0 1/3_for",
         "rawType": "int64",
         "type": "integer"
        },
        {
         "name": "Unnamed: 23_level_0 PPA_for",
         "rawType": "int64",
         "type": "integer"
        },
        {
         "name": "Unnamed: 24_level_0 CrsPA_for",
         "rawType": "int64",
         "type": "integer"
        },
        {
         "name": "Unnamed: 25_level_0 PrgP_for",
         "rawType": "int64",
         "type": "integer"
        },
        {
         "name": "Unnamed: 1_level_0 # Pl_against",
         "rawType": "int64",
         "type": "integer"
        },
        {
         "name": "Unnamed: 2_level_0 90s_against",
         "rawType": "float64",
         "type": "float"
        },
        {
         "name": "Total Cmp_against",
         "rawType": "int64",
         "type": "integer"
        },
        {
         "name": "Total Att_against",
         "rawType": "int64",
         "type": "integer"
        },
        {
         "name": "Total Cmp%_against",
         "rawType": "float64",
         "type": "float"
        },
        {
         "name": "Total TotDist_against",
         "rawType": "int64",
         "type": "integer"
        },
        {
         "name": "Total PrgDist_against",
         "rawType": "int64",
         "type": "integer"
        },
        {
         "name": "Short Cmp_against",
         "rawType": "int64",
         "type": "integer"
        },
        {
         "name": "Short Att_against",
         "rawType": "int64",
         "type": "integer"
        },
        {
         "name": "Short Cmp%_against",
         "rawType": "float64",
         "type": "float"
        },
        {
         "name": "Medium Cmp_against",
         "rawType": "int64",
         "type": "integer"
        },
        {
         "name": "Medium Att_against",
         "rawType": "int64",
         "type": "integer"
        },
        {
         "name": "Medium Cmp%_against",
         "rawType": "float64",
         "type": "float"
        },
        {
         "name": "Long Cmp_against",
         "rawType": "int64",
         "type": "integer"
        },
        {
         "name": "Long Att_against",
         "rawType": "int64",
         "type": "integer"
        },
        {
         "name": "Long Cmp%_against",
         "rawType": "float64",
         "type": "float"
        },
        {
         "name": "Unnamed: 17_level_0 Ast_against",
         "rawType": "int64",
         "type": "integer"
        },
        {
         "name": "Unnamed: 18_level_0 xAG_against",
         "rawType": "float64",
         "type": "float"
        },
        {
         "name": "Expected xA_against",
         "rawType": "float64",
         "type": "float"
        },
        {
         "name": "Expected A-xAG_against",
         "rawType": "float64",
         "type": "float"
        },
        {
         "name": "Unnamed: 21_level_0 KP_against",
         "rawType": "int64",
         "type": "integer"
        },
        {
         "name": "Unnamed: 22_level_0 1/3_against",
         "rawType": "int64",
         "type": "integer"
        },
        {
         "name": "Unnamed: 23_level_0 PPA_against",
         "rawType": "int64",
         "type": "integer"
        },
        {
         "name": "Unnamed: 24_level_0 CrsPA_against",
         "rawType": "int64",
         "type": "integer"
        },
        {
         "name": "Unnamed: 25_level_0 PrgP_against",
         "rawType": "int64",
         "type": "integer"
        },
        {
         "name": "Season",
         "rawType": "object",
         "type": "string"
        }
       ],
       "ref": "cacd2529-1101-4ba8-9643-4064cdfafa74",
       "rows": [
        [
         "0",
         "Alavés",
         "29",
         "38.0",
         "10534",
         "14746",
         "71.4",
         "199550",
         "84871",
         "4546",
         "5494",
         "82.7",
         "4441",
         "5542",
         "80.1",
         "1312",
         "2838",
         "46.2",
         "20",
         "25.4",
         "25.9",
         "-5.4",
         "284",
         "963",
         "229",
         "99",
         "1160",
         "29",
         "38.0",
         "14251",
         "18138",
         "78.6",
         "260653",
         "94982",
         "6140",
         "6970",
         "88.1",
         "6230",
         "7338",
         "84.9",
         "1563",
         "2925",
         "53.4",
         "28",
         "33.3",
         "32.3",
         "-5.3",
         "306",
         "1034",
         "245",
         "97",
         "1323",
         "2024-2025"
        ],
        [
         "1",
         "Athletic Club",
         "31",
         "38.0",
         "13665",
         "17375",
         "78.6",
         "253362",
         "90647",
         "5552",
         "6396",
         "86.8",
         "6520",
         "7522",
         "86.7",
         "1395",
         "2733",
         "51.0",
         "40",
         "36.7",
         "33.1",
         "3.3",
         "351",
         "1283",
         "274",
         "90",
         "1579",
         "31",
         "38.0",
         "14953",
         "18891",
         "79.2",
         "269493",
         "95206",
         "6402",
         "7284",
         "87.9",
         "6730",
         "7799",
         "86.3",
         "1481",
         "2854",
         "51.9",
         "11",
         "22.9",
         "21.5",
         "-11.9",
         "242",
         "911",
         "205",
         "69",
         "1177",
         "2024-2025"
        ],
        [
         "2",
         "Atlético Madrid",
         "24",
         "38.0",
         "17826",
         "21418",
         "83.2",
         "295213",
         "100382",
         "8814",
         "9752",
         "90.4",
         "6993",
         "7984",
         "87.6",
         "1486",
         "2519",
         "59.0",
         "51",
         "47.9",
         "45.3",
         "3.1",
         "348",
         "1233",
         "365",
         "96",
         "1559",
         "24",
         "38.0",
         "16246",
         "19538",
         "83.2",
         "291315",
         "95937",
         "7097",
         "7859",
         "90.3",
         "7307",
         "8119",
         "90.0",
         "1542",
         "2749",
         "56.1",
         "17",
         "23.9",
         "29.8",
         "-6.9",
         "286",
         "1462",
         "282",
         "84",
         "1543",
         "2024-2025"
        ]
       ],
       "shape": {
        "columns": 52,
        "rows": 3
       }
      },
      "text/html": [
       "<div>\n",
       "<style scoped>\n",
       "    .dataframe tbody tr th:only-of-type {\n",
       "        vertical-align: middle;\n",
       "    }\n",
       "\n",
       "    .dataframe tbody tr th {\n",
       "        vertical-align: top;\n",
       "    }\n",
       "\n",
       "    .dataframe thead th {\n",
       "        text-align: right;\n",
       "    }\n",
       "</style>\n",
       "<table border=\"1\" class=\"dataframe\">\n",
       "  <thead>\n",
       "    <tr style=\"text-align: right;\">\n",
       "      <th></th>\n",
       "      <th>Squad</th>\n",
       "      <th>Unnamed: 1_level_0 # Pl_for</th>\n",
       "      <th>Unnamed: 2_level_0 90s_for</th>\n",
       "      <th>Total Cmp_for</th>\n",
       "      <th>Total Att_for</th>\n",
       "      <th>Total Cmp%_for</th>\n",
       "      <th>Total TotDist_for</th>\n",
       "      <th>Total PrgDist_for</th>\n",
       "      <th>Short Cmp_for</th>\n",
       "      <th>Short Att_for</th>\n",
       "      <th>...</th>\n",
       "      <th>Unnamed: 17_level_0 Ast_against</th>\n",
       "      <th>Unnamed: 18_level_0 xAG_against</th>\n",
       "      <th>Expected xA_against</th>\n",
       "      <th>Expected A-xAG_against</th>\n",
       "      <th>Unnamed: 21_level_0 KP_against</th>\n",
       "      <th>Unnamed: 22_level_0 1/3_against</th>\n",
       "      <th>Unnamed: 23_level_0 PPA_against</th>\n",
       "      <th>Unnamed: 24_level_0 CrsPA_against</th>\n",
       "      <th>Unnamed: 25_level_0 PrgP_against</th>\n",
       "      <th>Season</th>\n",
       "    </tr>\n",
       "  </thead>\n",
       "  <tbody>\n",
       "    <tr>\n",
       "      <th>0</th>\n",
       "      <td>Alavés</td>\n",
       "      <td>29</td>\n",
       "      <td>38.0</td>\n",
       "      <td>10534</td>\n",
       "      <td>14746</td>\n",
       "      <td>71.4</td>\n",
       "      <td>199550</td>\n",
       "      <td>84871</td>\n",
       "      <td>4546</td>\n",
       "      <td>5494</td>\n",
       "      <td>...</td>\n",
       "      <td>28</td>\n",
       "      <td>33.3</td>\n",
       "      <td>32.3</td>\n",
       "      <td>-5.3</td>\n",
       "      <td>306</td>\n",
       "      <td>1034</td>\n",
       "      <td>245</td>\n",
       "      <td>97</td>\n",
       "      <td>1323</td>\n",
       "      <td>2024-2025</td>\n",
       "    </tr>\n",
       "    <tr>\n",
       "      <th>1</th>\n",
       "      <td>Athletic Club</td>\n",
       "      <td>31</td>\n",
       "      <td>38.0</td>\n",
       "      <td>13665</td>\n",
       "      <td>17375</td>\n",
       "      <td>78.6</td>\n",
       "      <td>253362</td>\n",
       "      <td>90647</td>\n",
       "      <td>5552</td>\n",
       "      <td>6396</td>\n",
       "      <td>...</td>\n",
       "      <td>11</td>\n",
       "      <td>22.9</td>\n",
       "      <td>21.5</td>\n",
       "      <td>-11.9</td>\n",
       "      <td>242</td>\n",
       "      <td>911</td>\n",
       "      <td>205</td>\n",
       "      <td>69</td>\n",
       "      <td>1177</td>\n",
       "      <td>2024-2025</td>\n",
       "    </tr>\n",
       "    <tr>\n",
       "      <th>2</th>\n",
       "      <td>Atlético Madrid</td>\n",
       "      <td>24</td>\n",
       "      <td>38.0</td>\n",
       "      <td>17826</td>\n",
       "      <td>21418</td>\n",
       "      <td>83.2</td>\n",
       "      <td>295213</td>\n",
       "      <td>100382</td>\n",
       "      <td>8814</td>\n",
       "      <td>9752</td>\n",
       "      <td>...</td>\n",
       "      <td>17</td>\n",
       "      <td>23.9</td>\n",
       "      <td>29.8</td>\n",
       "      <td>-6.9</td>\n",
       "      <td>286</td>\n",
       "      <td>1462</td>\n",
       "      <td>282</td>\n",
       "      <td>84</td>\n",
       "      <td>1543</td>\n",
       "      <td>2024-2025</td>\n",
       "    </tr>\n",
       "  </tbody>\n",
       "</table>\n",
       "<p>3 rows × 52 columns</p>\n",
       "</div>"
      ],
      "text/plain": [
       "             Squad  Unnamed: 1_level_0 # Pl_for  Unnamed: 2_level_0 90s_for  \\\n",
       "0           Alavés                           29                        38.0   \n",
       "1    Athletic Club                           31                        38.0   \n",
       "2  Atlético Madrid                           24                        38.0   \n",
       "\n",
       "   Total Cmp_for  Total Att_for  Total Cmp%_for  Total TotDist_for  \\\n",
       "0          10534          14746            71.4             199550   \n",
       "1          13665          17375            78.6             253362   \n",
       "2          17826          21418            83.2             295213   \n",
       "\n",
       "   Total PrgDist_for  Short Cmp_for  Short Att_for  ...  \\\n",
       "0              84871           4546           5494  ...   \n",
       "1              90647           5552           6396  ...   \n",
       "2             100382           8814           9752  ...   \n",
       "\n",
       "   Unnamed: 17_level_0 Ast_against  Unnamed: 18_level_0 xAG_against  \\\n",
       "0                               28                             33.3   \n",
       "1                               11                             22.9   \n",
       "2                               17                             23.9   \n",
       "\n",
       "   Expected xA_against  Expected A-xAG_against  \\\n",
       "0                 32.3                    -5.3   \n",
       "1                 21.5                   -11.9   \n",
       "2                 29.8                    -6.9   \n",
       "\n",
       "   Unnamed: 21_level_0 KP_against  Unnamed: 22_level_0 1/3_against  \\\n",
       "0                             306                             1034   \n",
       "1                             242                              911   \n",
       "2                             286                             1462   \n",
       "\n",
       "   Unnamed: 23_level_0 PPA_against  Unnamed: 24_level_0 CrsPA_against  \\\n",
       "0                              245                                 97   \n",
       "1                              205                                 69   \n",
       "2                              282                                 84   \n",
       "\n",
       "   Unnamed: 25_level_0 PrgP_against     Season  \n",
       "0                              1323  2024-2025  \n",
       "1                              1177  2024-2025  \n",
       "2                              1543  2024-2025  \n",
       "\n",
       "[3 rows x 52 columns]"
      ]
     },
     "metadata": {},
     "output_type": "display_data"
    },
    {
     "name": "stdout",
     "output_type": "stream",
     "text": [
      "================================================================================\n",
      "📄 Archivo: shooting.csv\n",
      "\n"
     ]
    },
    {
     "data": {
      "application/vnd.microsoft.datawrangler.viewer.v0+json": {
       "columns": [
        {
         "name": "index",
         "rawType": "int64",
         "type": "integer"
        },
        {
         "name": "Squad",
         "rawType": "object",
         "type": "string"
        },
        {
         "name": "Unnamed: 1_level_0 # Pl_for",
         "rawType": "int64",
         "type": "integer"
        },
        {
         "name": "Playing Time MP_for",
         "rawType": "int64",
         "type": "integer"
        },
        {
         "name": "Playing Time Starts_for",
         "rawType": "int64",
         "type": "integer"
        },
        {
         "name": "Playing Time Min_for",
         "rawType": "int64",
         "type": "integer"
        },
        {
         "name": "Playing Time 90s_for",
         "rawType": "float64",
         "type": "float"
        },
        {
         "name": "Performance GA_for",
         "rawType": "int64",
         "type": "integer"
        },
        {
         "name": "Performance GA90_for",
         "rawType": "float64",
         "type": "float"
        },
        {
         "name": "Performance SoTA_for",
         "rawType": "int64",
         "type": "integer"
        },
        {
         "name": "Performance Saves_for",
         "rawType": "int64",
         "type": "integer"
        },
        {
         "name": "Performance Save%_for",
         "rawType": "float64",
         "type": "float"
        },
        {
         "name": "Performance W_for",
         "rawType": "int64",
         "type": "integer"
        },
        {
         "name": "Performance D_for",
         "rawType": "int64",
         "type": "integer"
        },
        {
         "name": "Performance L_for",
         "rawType": "int64",
         "type": "integer"
        },
        {
         "name": "Performance CS_for",
         "rawType": "int64",
         "type": "integer"
        },
        {
         "name": "Performance CS%_for",
         "rawType": "float64",
         "type": "float"
        },
        {
         "name": "Penalty Kicks PKatt_for",
         "rawType": "int64",
         "type": "integer"
        },
        {
         "name": "Penalty Kicks PKA_for",
         "rawType": "int64",
         "type": "integer"
        },
        {
         "name": "Penalty Kicks PKsv_for",
         "rawType": "int64",
         "type": "integer"
        },
        {
         "name": "Penalty Kicks PKm_for",
         "rawType": "int64",
         "type": "integer"
        },
        {
         "name": "Penalty Kicks Save%_for",
         "rawType": "float64",
         "type": "float"
        },
        {
         "name": "Unnamed: 1_level_0 # Pl_against",
         "rawType": "int64",
         "type": "integer"
        },
        {
         "name": "Playing Time MP_against",
         "rawType": "int64",
         "type": "integer"
        },
        {
         "name": "Playing Time Starts_against",
         "rawType": "int64",
         "type": "integer"
        },
        {
         "name": "Playing Time Min_against",
         "rawType": "int64",
         "type": "integer"
        },
        {
         "name": "Playing Time 90s_against",
         "rawType": "float64",
         "type": "float"
        },
        {
         "name": "Performance GA_against",
         "rawType": "int64",
         "type": "integer"
        },
        {
         "name": "Performance GA90_against",
         "rawType": "float64",
         "type": "float"
        },
        {
         "name": "Performance SoTA_against",
         "rawType": "int64",
         "type": "integer"
        },
        {
         "name": "Performance Saves_against",
         "rawType": "int64",
         "type": "integer"
        },
        {
         "name": "Performance Save%_against",
         "rawType": "float64",
         "type": "float"
        },
        {
         "name": "Performance W_against",
         "rawType": "int64",
         "type": "integer"
        },
        {
         "name": "Performance D_against",
         "rawType": "int64",
         "type": "integer"
        },
        {
         "name": "Performance L_against",
         "rawType": "int64",
         "type": "integer"
        },
        {
         "name": "Performance CS_against",
         "rawType": "int64",
         "type": "integer"
        },
        {
         "name": "Performance CS%_against",
         "rawType": "float64",
         "type": "float"
        },
        {
         "name": "Penalty Kicks PKatt_against",
         "rawType": "int64",
         "type": "integer"
        },
        {
         "name": "Penalty Kicks PKA_against",
         "rawType": "int64",
         "type": "integer"
        },
        {
         "name": "Penalty Kicks PKsv_against",
         "rawType": "int64",
         "type": "integer"
        },
        {
         "name": "Penalty Kicks PKm_against",
         "rawType": "int64",
         "type": "integer"
        },
        {
         "name": "Penalty Kicks Save%_against",
         "rawType": "float64",
         "type": "float"
        },
        {
         "name": "Season",
         "rawType": "object",
         "type": "string"
        }
       ],
       "ref": "dc659ddb-2a02-442c-9785-d61bbb46580e",
       "rows": [
        [
         "0",
         "Alavés",
         "3",
         "38",
         "38",
         "3419",
         "38.0",
         "48",
         "1.26",
         "132",
         "86",
         "72.0",
         "10",
         "12",
         "16",
         "9",
         "23.7",
         "11",
         "11",
         "0",
         "0",
         "0.0",
         "3",
         "38",
         "38",
         "3420",
         "38.0",
         "38",
         "1.0",
         "133",
         "94",
         "78.2",
         "16",
         "12",
         "10",
         "13",
         "34.2",
         "11",
         "9",
         "1",
         "1",
         "10.0",
         "2024-2025"
        ],
        [
         "1",
         "Athletic Club",
         "3",
         "38",
         "38",
         "3417",
         "38.0",
         "29",
         "0.76",
         "113",
         "83",
         "77.0",
         "19",
         "13",
         "6",
         "15",
         "39.5",
         "5",
         "3",
         "2",
         "0",
         "40.0",
         "3",
         "38",
         "38",
         "3420",
         "38.0",
         "54",
         "1.42",
         "154",
         "98",
         "66.9",
         "6",
         "13",
         "19",
         "9",
         "23.7",
         "6",
         "3",
         "3",
         "0",
         "50.0",
         "2024-2025"
        ],
        [
         "2",
         "Atlético Madrid",
         "2",
         "38",
         "38",
         "3420",
         "38.0",
         "30",
         "0.79",
         "116",
         "88",
         "78.4",
         "22",
         "10",
         "6",
         "17",
         "44.7",
         "5",
         "5",
         "0",
         "0",
         "0.0",
         "2",
         "38",
         "38",
         "3420",
         "38.0",
         "68",
         "1.79",
         "180",
         "112",
         "65.6",
         "6",
         "10",
         "22",
         "6",
         "15.8",
         "7",
         "6",
         "0",
         "1",
         "0.0",
         "2024-2025"
        ]
       ],
       "shape": {
        "columns": 42,
        "rows": 3
       }
      },
      "text/html": [
       "<div>\n",
       "<style scoped>\n",
       "    .dataframe tbody tr th:only-of-type {\n",
       "        vertical-align: middle;\n",
       "    }\n",
       "\n",
       "    .dataframe tbody tr th {\n",
       "        vertical-align: top;\n",
       "    }\n",
       "\n",
       "    .dataframe thead th {\n",
       "        text-align: right;\n",
       "    }\n",
       "</style>\n",
       "<table border=\"1\" class=\"dataframe\">\n",
       "  <thead>\n",
       "    <tr style=\"text-align: right;\">\n",
       "      <th></th>\n",
       "      <th>Squad</th>\n",
       "      <th>Unnamed: 1_level_0 # Pl_for</th>\n",
       "      <th>Playing Time MP_for</th>\n",
       "      <th>Playing Time Starts_for</th>\n",
       "      <th>Playing Time Min_for</th>\n",
       "      <th>Playing Time 90s_for</th>\n",
       "      <th>Performance GA_for</th>\n",
       "      <th>Performance GA90_for</th>\n",
       "      <th>Performance SoTA_for</th>\n",
       "      <th>Performance Saves_for</th>\n",
       "      <th>...</th>\n",
       "      <th>Performance D_against</th>\n",
       "      <th>Performance L_against</th>\n",
       "      <th>Performance CS_against</th>\n",
       "      <th>Performance CS%_against</th>\n",
       "      <th>Penalty Kicks PKatt_against</th>\n",
       "      <th>Penalty Kicks PKA_against</th>\n",
       "      <th>Penalty Kicks PKsv_against</th>\n",
       "      <th>Penalty Kicks PKm_against</th>\n",
       "      <th>Penalty Kicks Save%_against</th>\n",
       "      <th>Season</th>\n",
       "    </tr>\n",
       "  </thead>\n",
       "  <tbody>\n",
       "    <tr>\n",
       "      <th>0</th>\n",
       "      <td>Alavés</td>\n",
       "      <td>3</td>\n",
       "      <td>38</td>\n",
       "      <td>38</td>\n",
       "      <td>3419</td>\n",
       "      <td>38.0</td>\n",
       "      <td>48</td>\n",
       "      <td>1.26</td>\n",
       "      <td>132</td>\n",
       "      <td>86</td>\n",
       "      <td>...</td>\n",
       "      <td>12</td>\n",
       "      <td>10</td>\n",
       "      <td>13</td>\n",
       "      <td>34.2</td>\n",
       "      <td>11</td>\n",
       "      <td>9</td>\n",
       "      <td>1</td>\n",
       "      <td>1</td>\n",
       "      <td>10.0</td>\n",
       "      <td>2024-2025</td>\n",
       "    </tr>\n",
       "    <tr>\n",
       "      <th>1</th>\n",
       "      <td>Athletic Club</td>\n",
       "      <td>3</td>\n",
       "      <td>38</td>\n",
       "      <td>38</td>\n",
       "      <td>3417</td>\n",
       "      <td>38.0</td>\n",
       "      <td>29</td>\n",
       "      <td>0.76</td>\n",
       "      <td>113</td>\n",
       "      <td>83</td>\n",
       "      <td>...</td>\n",
       "      <td>13</td>\n",
       "      <td>19</td>\n",
       "      <td>9</td>\n",
       "      <td>23.7</td>\n",
       "      <td>6</td>\n",
       "      <td>3</td>\n",
       "      <td>3</td>\n",
       "      <td>0</td>\n",
       "      <td>50.0</td>\n",
       "      <td>2024-2025</td>\n",
       "    </tr>\n",
       "    <tr>\n",
       "      <th>2</th>\n",
       "      <td>Atlético Madrid</td>\n",
       "      <td>2</td>\n",
       "      <td>38</td>\n",
       "      <td>38</td>\n",
       "      <td>3420</td>\n",
       "      <td>38.0</td>\n",
       "      <td>30</td>\n",
       "      <td>0.79</td>\n",
       "      <td>116</td>\n",
       "      <td>88</td>\n",
       "      <td>...</td>\n",
       "      <td>10</td>\n",
       "      <td>22</td>\n",
       "      <td>6</td>\n",
       "      <td>15.8</td>\n",
       "      <td>7</td>\n",
       "      <td>6</td>\n",
       "      <td>0</td>\n",
       "      <td>1</td>\n",
       "      <td>0.0</td>\n",
       "      <td>2024-2025</td>\n",
       "    </tr>\n",
       "  </tbody>\n",
       "</table>\n",
       "<p>3 rows × 42 columns</p>\n",
       "</div>"
      ],
      "text/plain": [
       "             Squad  Unnamed: 1_level_0 # Pl_for  Playing Time MP_for  \\\n",
       "0           Alavés                            3                   38   \n",
       "1    Athletic Club                            3                   38   \n",
       "2  Atlético Madrid                            2                   38   \n",
       "\n",
       "   Playing Time Starts_for  Playing Time Min_for  Playing Time 90s_for  \\\n",
       "0                       38                  3419                  38.0   \n",
       "1                       38                  3417                  38.0   \n",
       "2                       38                  3420                  38.0   \n",
       "\n",
       "   Performance GA_for  Performance GA90_for  Performance SoTA_for  \\\n",
       "0                  48                  1.26                   132   \n",
       "1                  29                  0.76                   113   \n",
       "2                  30                  0.79                   116   \n",
       "\n",
       "   Performance Saves_for  ...  Performance D_against  Performance L_against  \\\n",
       "0                     86  ...                     12                     10   \n",
       "1                     83  ...                     13                     19   \n",
       "2                     88  ...                     10                     22   \n",
       "\n",
       "   Performance CS_against  Performance CS%_against  \\\n",
       "0                      13                     34.2   \n",
       "1                       9                     23.7   \n",
       "2                       6                     15.8   \n",
       "\n",
       "   Penalty Kicks PKatt_against  Penalty Kicks PKA_against  \\\n",
       "0                           11                          9   \n",
       "1                            6                          3   \n",
       "2                            7                          6   \n",
       "\n",
       "   Penalty Kicks PKsv_against  Penalty Kicks PKm_against  \\\n",
       "0                           1                          1   \n",
       "1                           3                          0   \n",
       "2                           0                          1   \n",
       "\n",
       "   Penalty Kicks Save%_against     Season  \n",
       "0                         10.0  2024-2025  \n",
       "1                         50.0  2024-2025  \n",
       "2                          0.0  2024-2025  \n",
       "\n",
       "[3 rows x 42 columns]"
      ]
     },
     "metadata": {},
     "output_type": "display_data"
    },
    {
     "name": "stdout",
     "output_type": "stream",
     "text": [
      "================================================================================\n",
      "📄 Archivo: team_standard.csv\n",
      "\n"
     ]
    },
    {
     "data": {
      "application/vnd.microsoft.datawrangler.viewer.v0+json": {
       "columns": [
        {
         "name": "index",
         "rawType": "int64",
         "type": "integer"
        },
        {
         "name": "Squad",
         "rawType": "object",
         "type": "string"
        },
        {
         "name": "Unnamed: 1_level_0 # Pl_for",
         "rawType": "int64",
         "type": "integer"
        },
        {
         "name": "Unnamed: 2_level_0 Age_for",
         "rawType": "float64",
         "type": "float"
        },
        {
         "name": "Unnamed: 3_level_0 Poss_for",
         "rawType": "float64",
         "type": "float"
        },
        {
         "name": "Playing Time MP_for",
         "rawType": "int64",
         "type": "integer"
        },
        {
         "name": "Playing Time Starts_for",
         "rawType": "int64",
         "type": "integer"
        },
        {
         "name": "Playing Time Min_for",
         "rawType": "int64",
         "type": "integer"
        },
        {
         "name": "Playing Time 90s_for",
         "rawType": "float64",
         "type": "float"
        },
        {
         "name": "Performance Gls_for",
         "rawType": "int64",
         "type": "integer"
        },
        {
         "name": "Performance Ast_for",
         "rawType": "int64",
         "type": "integer"
        },
        {
         "name": "Performance G+A_for",
         "rawType": "int64",
         "type": "integer"
        },
        {
         "name": "Performance G-PK_for",
         "rawType": "int64",
         "type": "integer"
        },
        {
         "name": "Performance PK_for",
         "rawType": "int64",
         "type": "integer"
        },
        {
         "name": "Performance PKatt_for",
         "rawType": "int64",
         "type": "integer"
        },
        {
         "name": "Performance CrdY_for",
         "rawType": "int64",
         "type": "integer"
        },
        {
         "name": "Performance CrdR_for",
         "rawType": "int64",
         "type": "integer"
        },
        {
         "name": "Expected xG_for",
         "rawType": "float64",
         "type": "float"
        },
        {
         "name": "Expected npxG_for",
         "rawType": "float64",
         "type": "float"
        },
        {
         "name": "Expected xAG_for",
         "rawType": "float64",
         "type": "float"
        },
        {
         "name": "Expected npxG+xAG_for",
         "rawType": "float64",
         "type": "float"
        },
        {
         "name": "Progression PrgC_for",
         "rawType": "int64",
         "type": "integer"
        },
        {
         "name": "Progression PrgP_for",
         "rawType": "int64",
         "type": "integer"
        },
        {
         "name": "Per 90 Minutes Gls_for",
         "rawType": "float64",
         "type": "float"
        },
        {
         "name": "Per 90 Minutes Ast_for",
         "rawType": "float64",
         "type": "float"
        },
        {
         "name": "Per 90 Minutes G+A_for",
         "rawType": "float64",
         "type": "float"
        },
        {
         "name": "Per 90 Minutes G-PK_for",
         "rawType": "float64",
         "type": "float"
        },
        {
         "name": "Per 90 Minutes G+A-PK_for",
         "rawType": "float64",
         "type": "float"
        },
        {
         "name": "Per 90 Minutes xG_for",
         "rawType": "float64",
         "type": "float"
        },
        {
         "name": "Per 90 Minutes xAG_for",
         "rawType": "float64",
         "type": "float"
        },
        {
         "name": "Per 90 Minutes xG+xAG_for",
         "rawType": "float64",
         "type": "float"
        },
        {
         "name": "Per 90 Minutes npxG_for",
         "rawType": "float64",
         "type": "float"
        },
        {
         "name": "Per 90 Minutes npxG+xAG_for",
         "rawType": "float64",
         "type": "float"
        },
        {
         "name": "Unnamed: 1_level_0 # Pl_against",
         "rawType": "int64",
         "type": "integer"
        },
        {
         "name": "Unnamed: 2_level_0 Age_against",
         "rawType": "float64",
         "type": "float"
        },
        {
         "name": "Unnamed: 3_level_0 Poss_against",
         "rawType": "float64",
         "type": "float"
        },
        {
         "name": "Playing Time MP_against",
         "rawType": "int64",
         "type": "integer"
        },
        {
         "name": "Playing Time Starts_against",
         "rawType": "int64",
         "type": "integer"
        },
        {
         "name": "Playing Time Min_against",
         "rawType": "int64",
         "type": "integer"
        },
        {
         "name": "Playing Time 90s_against",
         "rawType": "float64",
         "type": "float"
        },
        {
         "name": "Performance Gls_against",
         "rawType": "int64",
         "type": "integer"
        },
        {
         "name": "Performance Ast_against",
         "rawType": "int64",
         "type": "integer"
        },
        {
         "name": "Performance G+A_against",
         "rawType": "int64",
         "type": "integer"
        },
        {
         "name": "Performance G-PK_against",
         "rawType": "int64",
         "type": "integer"
        },
        {
         "name": "Performance PK_against",
         "rawType": "int64",
         "type": "integer"
        },
        {
         "name": "Performance PKatt_against",
         "rawType": "int64",
         "type": "integer"
        },
        {
         "name": "Performance CrdY_against",
         "rawType": "int64",
         "type": "integer"
        },
        {
         "name": "Performance CrdR_against",
         "rawType": "int64",
         "type": "integer"
        },
        {
         "name": "Expected xG_against",
         "rawType": "float64",
         "type": "float"
        },
        {
         "name": "Expected npxG_against",
         "rawType": "float64",
         "type": "float"
        },
        {
         "name": "Expected xAG_against",
         "rawType": "float64",
         "type": "float"
        },
        {
         "name": "Expected npxG+xAG_against",
         "rawType": "float64",
         "type": "float"
        },
        {
         "name": "Progression PrgC_against",
         "rawType": "int64",
         "type": "integer"
        },
        {
         "name": "Progression PrgP_against",
         "rawType": "int64",
         "type": "integer"
        },
        {
         "name": "Per 90 Minutes Gls_against",
         "rawType": "float64",
         "type": "float"
        },
        {
         "name": "Per 90 Minutes Ast_against",
         "rawType": "float64",
         "type": "float"
        },
        {
         "name": "Per 90 Minutes G+A_against",
         "rawType": "float64",
         "type": "float"
        },
        {
         "name": "Per 90 Minutes G-PK_against",
         "rawType": "float64",
         "type": "float"
        },
        {
         "name": "Per 90 Minutes G+A-PK_against",
         "rawType": "float64",
         "type": "float"
        },
        {
         "name": "Per 90 Minutes xG_against",
         "rawType": "float64",
         "type": "float"
        },
        {
         "name": "Per 90 Minutes xAG_against",
         "rawType": "float64",
         "type": "float"
        },
        {
         "name": "Per 90 Minutes xG+xAG_against",
         "rawType": "float64",
         "type": "float"
        },
        {
         "name": "Per 90 Minutes npxG_against",
         "rawType": "float64",
         "type": "float"
        },
        {
         "name": "Per 90 Minutes npxG+xAG_against",
         "rawType": "float64",
         "type": "float"
        },
        {
         "name": "Season",
         "rawType": "object",
         "type": "string"
        }
       ],
       "ref": "ab4d2ff0-5fe6-47f9-8583-7278c536bb34",
       "rows": [
        [
         "0",
         "Alavés",
         "29",
         "26.6",
         "45.3",
         "38",
         "418",
         "3420",
         "38.0",
         "38",
         "20",
         "58",
         "29",
         "9",
         "11",
         "107",
         "5",
         "42.8",
         "34.1",
         "25.4",
         "59.5",
         "449",
         "1160",
         "1.0",
         "0.53",
         "1.53",
         "0.76",
         "1.29",
         "1.13",
         "0.67",
         "1.79",
         "0.9",
         "1.57",
         "29",
         "26.9",
         "54.7",
         "38",
         "418",
         "3420",
         "38.0",
         "46",
         "28",
         "74",
         "35",
         "11",
         "11",
         "107",
         "5",
         "47.0",
         "38.5",
         "33.3",
         "71.8",
         "573",
         "1323",
         "1.21",
         "0.74",
         "1.95",
         "0.92",
         "1.66",
         "1.24",
         "0.88",
         "2.11",
         "1.01",
         "1.89",
         "2024-2025"
        ],
        [
         "1",
         "Athletic Club",
         "31",
         "26.9",
         "48.4",
         "38",
         "418",
         "3420",
         "38.0",
         "53",
         "40",
         "93",
         "50",
         "3",
         "6",
         "64",
         "3",
         "53.0",
         "48.2",
         "36.7",
         "84.9",
         "682",
         "1579",
         "1.39",
         "1.05",
         "2.45",
         "1.32",
         "2.37",
         "1.39",
         "0.97",
         "2.36",
         "1.27",
         "2.23",
         "31",
         "26.6",
         "51.6",
         "38",
         "418",
         "3420",
         "38.0",
         "28",
         "11",
         "39",
         "25",
         "3",
         "5",
         "83",
         "4",
         "37.8",
         "33.9",
         "22.9",
         "56.7",
         "468",
         "1177",
         "0.74",
         "0.29",
         "1.03",
         "0.66",
         "0.95",
         "0.99",
         "0.6",
         "1.6",
         "0.89",
         "1.49",
         "2024-2025"
        ],
        [
         "2",
         "Atlético Madrid",
         "24",
         "28.4",
         "52.6",
         "38",
         "418",
         "3420",
         "38.0",
         "68",
         "51",
         "119",
         "62",
         "6",
         "7",
         "75",
         "3",
         "64.6",
         "59.3",
         "47.9",
         "107.2",
         "760",
         "1559",
         "1.79",
         "1.34",
         "3.13",
         "1.63",
         "2.97",
         "1.7",
         "1.26",
         "2.96",
         "1.56",
         "2.82",
         "24",
         "26.8",
         "47.4",
         "38",
         "418",
         "3420",
         "38.0",
         "28",
         "17",
         "45",
         "23",
         "5",
         "5",
         "68",
         "0",
         "33.4",
         "29.5",
         "23.9",
         "53.4",
         "581",
         "1543",
         "0.74",
         "0.45",
         "1.18",
         "0.61",
         "1.05",
         "0.88",
         "0.63",
         "1.51",
         "0.78",
         "1.4",
         "2024-2025"
        ]
       ],
       "shape": {
        "columns": 64,
        "rows": 3
       }
      },
      "text/html": [
       "<div>\n",
       "<style scoped>\n",
       "    .dataframe tbody tr th:only-of-type {\n",
       "        vertical-align: middle;\n",
       "    }\n",
       "\n",
       "    .dataframe tbody tr th {\n",
       "        vertical-align: top;\n",
       "    }\n",
       "\n",
       "    .dataframe thead th {\n",
       "        text-align: right;\n",
       "    }\n",
       "</style>\n",
       "<table border=\"1\" class=\"dataframe\">\n",
       "  <thead>\n",
       "    <tr style=\"text-align: right;\">\n",
       "      <th></th>\n",
       "      <th>Squad</th>\n",
       "      <th>Unnamed: 1_level_0 # Pl_for</th>\n",
       "      <th>Unnamed: 2_level_0 Age_for</th>\n",
       "      <th>Unnamed: 3_level_0 Poss_for</th>\n",
       "      <th>Playing Time MP_for</th>\n",
       "      <th>Playing Time Starts_for</th>\n",
       "      <th>Playing Time Min_for</th>\n",
       "      <th>Playing Time 90s_for</th>\n",
       "      <th>Performance Gls_for</th>\n",
       "      <th>Performance Ast_for</th>\n",
       "      <th>...</th>\n",
       "      <th>Per 90 Minutes Ast_against</th>\n",
       "      <th>Per 90 Minutes G+A_against</th>\n",
       "      <th>Per 90 Minutes G-PK_against</th>\n",
       "      <th>Per 90 Minutes G+A-PK_against</th>\n",
       "      <th>Per 90 Minutes xG_against</th>\n",
       "      <th>Per 90 Minutes xAG_against</th>\n",
       "      <th>Per 90 Minutes xG+xAG_against</th>\n",
       "      <th>Per 90 Minutes npxG_against</th>\n",
       "      <th>Per 90 Minutes npxG+xAG_against</th>\n",
       "      <th>Season</th>\n",
       "    </tr>\n",
       "  </thead>\n",
       "  <tbody>\n",
       "    <tr>\n",
       "      <th>0</th>\n",
       "      <td>Alavés</td>\n",
       "      <td>29</td>\n",
       "      <td>26.6</td>\n",
       "      <td>45.3</td>\n",
       "      <td>38</td>\n",
       "      <td>418</td>\n",
       "      <td>3420</td>\n",
       "      <td>38.0</td>\n",
       "      <td>38</td>\n",
       "      <td>20</td>\n",
       "      <td>...</td>\n",
       "      <td>0.74</td>\n",
       "      <td>1.95</td>\n",
       "      <td>0.92</td>\n",
       "      <td>1.66</td>\n",
       "      <td>1.24</td>\n",
       "      <td>0.88</td>\n",
       "      <td>2.11</td>\n",
       "      <td>1.01</td>\n",
       "      <td>1.89</td>\n",
       "      <td>2024-2025</td>\n",
       "    </tr>\n",
       "    <tr>\n",
       "      <th>1</th>\n",
       "      <td>Athletic Club</td>\n",
       "      <td>31</td>\n",
       "      <td>26.9</td>\n",
       "      <td>48.4</td>\n",
       "      <td>38</td>\n",
       "      <td>418</td>\n",
       "      <td>3420</td>\n",
       "      <td>38.0</td>\n",
       "      <td>53</td>\n",
       "      <td>40</td>\n",
       "      <td>...</td>\n",
       "      <td>0.29</td>\n",
       "      <td>1.03</td>\n",
       "      <td>0.66</td>\n",
       "      <td>0.95</td>\n",
       "      <td>0.99</td>\n",
       "      <td>0.60</td>\n",
       "      <td>1.60</td>\n",
       "      <td>0.89</td>\n",
       "      <td>1.49</td>\n",
       "      <td>2024-2025</td>\n",
       "    </tr>\n",
       "    <tr>\n",
       "      <th>2</th>\n",
       "      <td>Atlético Madrid</td>\n",
       "      <td>24</td>\n",
       "      <td>28.4</td>\n",
       "      <td>52.6</td>\n",
       "      <td>38</td>\n",
       "      <td>418</td>\n",
       "      <td>3420</td>\n",
       "      <td>38.0</td>\n",
       "      <td>68</td>\n",
       "      <td>51</td>\n",
       "      <td>...</td>\n",
       "      <td>0.45</td>\n",
       "      <td>1.18</td>\n",
       "      <td>0.61</td>\n",
       "      <td>1.05</td>\n",
       "      <td>0.88</td>\n",
       "      <td>0.63</td>\n",
       "      <td>1.51</td>\n",
       "      <td>0.78</td>\n",
       "      <td>1.40</td>\n",
       "      <td>2024-2025</td>\n",
       "    </tr>\n",
       "  </tbody>\n",
       "</table>\n",
       "<p>3 rows × 64 columns</p>\n",
       "</div>"
      ],
      "text/plain": [
       "             Squad  Unnamed: 1_level_0 # Pl_for  Unnamed: 2_level_0 Age_for  \\\n",
       "0           Alavés                           29                        26.6   \n",
       "1    Athletic Club                           31                        26.9   \n",
       "2  Atlético Madrid                           24                        28.4   \n",
       "\n",
       "   Unnamed: 3_level_0 Poss_for  Playing Time MP_for  Playing Time Starts_for  \\\n",
       "0                         45.3                   38                      418   \n",
       "1                         48.4                   38                      418   \n",
       "2                         52.6                   38                      418   \n",
       "\n",
       "   Playing Time Min_for  Playing Time 90s_for  Performance Gls_for  \\\n",
       "0                  3420                  38.0                   38   \n",
       "1                  3420                  38.0                   53   \n",
       "2                  3420                  38.0                   68   \n",
       "\n",
       "   Performance Ast_for  ...  Per 90 Minutes Ast_against  \\\n",
       "0                   20  ...                        0.74   \n",
       "1                   40  ...                        0.29   \n",
       "2                   51  ...                        0.45   \n",
       "\n",
       "   Per 90 Minutes G+A_against  Per 90 Minutes G-PK_against  \\\n",
       "0                        1.95                         0.92   \n",
       "1                        1.03                         0.66   \n",
       "2                        1.18                         0.61   \n",
       "\n",
       "   Per 90 Minutes G+A-PK_against  Per 90 Minutes xG_against  \\\n",
       "0                           1.66                       1.24   \n",
       "1                           0.95                       0.99   \n",
       "2                           1.05                       0.88   \n",
       "\n",
       "   Per 90 Minutes xAG_against  Per 90 Minutes xG+xAG_against  \\\n",
       "0                        0.88                           2.11   \n",
       "1                        0.60                           1.60   \n",
       "2                        0.63                           1.51   \n",
       "\n",
       "   Per 90 Minutes npxG_against  Per 90 Minutes npxG+xAG_against     Season  \n",
       "0                         1.01                             1.89  2024-2025  \n",
       "1                         0.89                             1.49  2024-2025  \n",
       "2                         0.78                             1.40  2024-2025  \n",
       "\n",
       "[3 rows x 64 columns]"
      ]
     },
     "metadata": {},
     "output_type": "display_data"
    }
   ],
   "source": [
    "for csv in ruta_csvs.glob(\"*.csv\"):\n",
    "    try:\n",
    "        print(\"=\"*80)\n",
    "        print(f\"📄 Archivo: {csv.name}\\n\")\n",
    "        df = pd.read_csv(csv, encoding=\"utf-8\", quotechar='\"', skipinitialspace=True)\n",
    "        display(df.head(3))  # si estás en notebook\n",
    "        # print(df.head(3))  # si estás en script normal\n",
    "    except Exception as e:\n",
    "        print(f\"⚠️ Error al procesar {csv.name}: {e}\")"
   ]
  },
  {
   "cell_type": "code",
   "execution_count": null,
   "id": "516a3dc1",
   "metadata": {},
   "outputs": [],
   "source": []
  },
  {
   "cell_type": "code",
   "execution_count": null,
   "id": "e874d160",
   "metadata": {},
   "outputs": [],
   "source": []
  },
  {
   "cell_type": "code",
   "execution_count": null,
   "id": "5e708aa2",
   "metadata": {},
   "outputs": [],
   "source": []
  },
  {
   "cell_type": "code",
   "execution_count": null,
   "id": "7e241501",
   "metadata": {},
   "outputs": [],
   "source": []
  }
 ],
 "metadata": {
  "kernelspec": {
   "display_name": ".venv (3.12.0)",
   "language": "python",
   "name": "python3"
  },
  "language_info": {
   "codemirror_mode": {
    "name": "ipython",
    "version": 3
   },
   "file_extension": ".py",
   "mimetype": "text/x-python",
   "name": "python",
   "nbconvert_exporter": "python",
   "pygments_lexer": "ipython3",
   "version": "3.12.0"
  }
 },
 "nbformat": 4,
 "nbformat_minor": 5
}

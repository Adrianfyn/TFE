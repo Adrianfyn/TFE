{
 "cells": [
  {
   "cell_type": "code",
   "execution_count": null,
   "id": "74ed2d14",
   "metadata": {},
   "outputs": [
    {
     "name": "stdout",
     "output_type": "stream",
     "text": [
      "📊 Generando EDA para: defensive.csv\n"
     ]
    },
    {
     "name": "stderr",
     "output_type": "stream",
     "text": [
      "100%|██████████| 36/36 [00:00<00:00, 240.82it/s]<00:00, 137.56it/s, Describe variable: Season]                        \n",
      "Summarize dataset: 100%|██████████| 1069/1069 [01:08<00:00, 15.66it/s, Completed]                                                              \n",
      "Generate report structure: 100%|██████████| 1/1 [00:06<00:00,  6.53s/it]\n",
      "Render HTML: 100%|██████████| 1/1 [00:10<00:00, 10.83s/it]\n",
      "Export report to file: 100%|██████████| 1/1 [00:00<00:00,  5.79it/s]\n"
     ]
    },
    {
     "name": "stdout",
     "output_type": "stream",
     "text": [
      "✅ Guardado en: eda_reports\\defensive_eda.html\n",
      "\n",
      "📊 Generando EDA para: goalkeeper.csv\n"
     ]
    },
    {
     "name": "stderr",
     "output_type": "stream",
     "text": [
      "100%|██████████| 52/52 [00:00<00:00, 668.93it/s]<00:00, 195.44it/s, Describe variable: Season]                         \n",
      "Summarize dataset: 100%|██████████| 2365/2365 [02:46<00:00, 14.24it/s, Completed]                                                               \n",
      "Generate report structure: 100%|██████████| 1/1 [00:10<00:00, 10.57s/it]\n",
      "Render HTML: 100%|██████████| 1/1 [00:23<00:00, 23.78s/it]\n",
      "Export report to file: 100%|██████████| 1/1 [00:04<00:00,  4.47s/it]\n"
     ]
    },
    {
     "name": "stdout",
     "output_type": "stream",
     "text": [
      "✅ Guardado en: eda_reports\\goalkeeper_eda.html\n",
      "\n",
      "📊 Generando EDA para: keeper_adv.csv\n"
     ]
    },
    {
     "name": "stderr",
     "output_type": "stream",
     "text": [
      "100%|██████████| 38/38 [00:00<00:00, 8411.63it/s]00:00, 134.82it/s, Describe variable: Season]                             \n",
      "Summarize dataset: 100%|██████████| 1203/1203 [01:23<00:00, 14.33it/s, Completed]                                                                       \n",
      "Generate report structure: 100%|██████████| 1/1 [00:07<00:00,  7.24s/it]\n",
      "Render HTML: 100%|██████████| 1/1 [00:12<00:00, 12.10s/it]\n",
      "Export report to file: 100%|██████████| 1/1 [00:00<00:00,  4.90it/s]\n"
     ]
    },
    {
     "name": "stdout",
     "output_type": "stream",
     "text": [
      "✅ Guardado en: eda_reports\\keeper_adv_eda.html\n",
      "\n",
      "📊 Generando EDA para: misc.csv\n"
     ]
    },
    {
     "name": "stderr",
     "output_type": "stream",
     "text": [
      "100%|██████████| 38/38 [00:00<00:00, 1580.64it/s]00:00, 99.08it/s, Describe variable: Season]                       \n",
      "Summarize dataset: 100%|██████████| 1136/1136 [01:19<00:00, 14.21it/s, Completed]                                                              \n",
      "Generate report structure: 100%|██████████| 1/1 [00:06<00:00,  6.32s/it]\n",
      "Render HTML: 100%|██████████| 1/1 [00:10<00:00, 10.89s/it]\n",
      "Export report to file: 100%|██████████| 1/1 [00:00<00:00,  5.47it/s]\n"
     ]
    },
    {
     "name": "stdout",
     "output_type": "stream",
     "text": [
      "✅ Guardado en: eda_reports\\misc_eda.html\n",
      "\n",
      "📊 Generando EDA para: overall.csv\n"
     ]
    },
    {
     "name": "stderr",
     "output_type": "stream",
     "text": [
      "100%|██████████| 20/20 [00:00<00:00, 3331.72it/s]00:00, 122.67it/s, Describe variable: Season]  \n",
      "Summarize dataset: 100%|██████████| 226/226 [00:13<00:00, 16.64it/s, Completed]                     \n",
      "Generate report structure: 100%|██████████| 1/1 [00:04<00:00,  4.02s/it]\n",
      "Render HTML: 100%|██████████| 1/1 [00:01<00:00,  1.97s/it]\n",
      "Export report to file: 100%|██████████| 1/1 [00:00<00:00, 46.40it/s]\n"
     ]
    },
    {
     "name": "stdout",
     "output_type": "stream",
     "text": [
      "✅ Guardado en: eda_reports\\overall_eda.html\n",
      "\n",
      "📊 Generando EDA para: passing.csv\n"
     ]
    },
    {
     "name": "stderr",
     "output_type": "stream",
     "text": [
      "100%|██████████| 56/56 [00:00<00:00, 543.69it/s]<00:00, 183.70it/s, Describe variable: Season]                         \n",
      "Summarize dataset: 100%|██████████| 2466/2466 [02:48<00:00, 14.60it/s, Completed]                                                     \n",
      "Generate report structure: 100%|██████████| 1/1 [00:10<00:00, 10.26s/it]\n",
      "Render HTML: 100%|██████████| 1/1 [00:24<00:00, 24.84s/it]\n",
      "Export report to file: 100%|██████████| 1/1 [00:00<00:00,  2.14it/s]\n"
     ]
    },
    {
     "name": "stdout",
     "output_type": "stream",
     "text": [
      "✅ Guardado en: eda_reports\\passing_eda.html\n",
      "\n",
      "📊 Generando EDA para: pass_types.csv\n"
     ]
    },
    {
     "name": "stderr",
     "output_type": "stream",
     "text": [
      "100%|██████████| 40/40 [00:00<00:00, 26575.66it/s]0:00, 122.96it/s, Describe variable: Season]                  \n",
      "Summarize dataset: 100%|██████████| 1345/1345 [01:30<00:00, 14.82it/s, Completed]                                                              \n",
      "Generate report structure: 100%|██████████| 1/1 [00:06<00:00,  6.70s/it]\n",
      "Render HTML: 100%|██████████| 1/1 [00:12<00:00, 12.75s/it]\n",
      "Export report to file: 100%|██████████| 1/1 [00:00<00:00,  4.34it/s]\n"
     ]
    },
    {
     "name": "stdout",
     "output_type": "stream",
     "text": [
      "✅ Guardado en: eda_reports\\pass_types_eda.html\n",
      "\n",
      "📊 Generando EDA para: playing_time.csv\n"
     ]
    },
    {
     "name": "stderr",
     "output_type": "stream",
     "text": [
      "100%|██████████| 46/46 [00:00<00:00, 508.29it/s]<00:00, 138.82it/s, Describe variable: Season]                         \n",
      "Summarize dataset: 100%|██████████| 1080/1080 [01:05<00:00, 16.40it/s, Completed]                                                                   \n",
      "Generate report structure: 100%|██████████| 1/1 [00:07<00:00,  7.12s/it]\n",
      "Render HTML: 100%|██████████| 1/1 [00:10<00:00, 10.50s/it]\n",
      "Export report to file: 100%|██████████| 1/1 [00:00<00:00,  5.37it/s]\n"
     ]
    },
    {
     "name": "stdout",
     "output_type": "stream",
     "text": [
      "✅ Guardado en: eda_reports\\playing_time_eda.html\n",
      "\n",
      "📊 Generando EDA para: possession.csv\n"
     ]
    },
    {
     "name": "stderr",
     "output_type": "stream",
     "text": [
      "100%|██████████| 38/38 [00:00<00:00, 2809.02it/s]00:00, 141.82it/s, Describe variable: Season]                      \n",
      "Summarize dataset: 100%|██████████| 1203/1203 [01:20<00:00, 14.93it/s, Completed]                                                              \n",
      "Generate report structure: 100%|██████████| 1/1 [00:06<00:00,  6.65s/it]\n",
      "Render HTML: 100%|██████████| 1/1 [00:11<00:00, 11.78s/it]\n",
      "Export report to file: 100%|██████████| 1/1 [00:00<00:00,  5.06it/s]\n"
     ]
    },
    {
     "name": "stdout",
     "output_type": "stream",
     "text": [
      "✅ Guardado en: eda_reports\\possession_eda.html\n",
      "\n",
      "📊 Generando EDA para: sca_gca.csv\n"
     ]
    },
    {
     "name": "stderr",
     "output_type": "stream",
     "text": [
      "100%|██████████| 52/52 [00:00<00:00, 539.44it/s]<00:00, 177.63it/s, Describe variable: Season]                          \n",
      "Summarize dataset:  16%|█▌        | 368/2363 [00:22<01:57, 17.00it/s, scatter Total Cmp_against, Short Cmp_for]                              "
     ]
    }
   ],
   "source": [
    "import pandas as pd\n",
    "from ydata_profiling import ProfileReport\n",
    "from pathlib import Path\n",
    "\n",
    "# Ruta de entrada (donde están los CSVs)\n",
    "ruta_csvs = Path(\"../Data/Datos La Liga 17-25\")\n",
    "\n",
    "# Ruta de salida para los informes HTML\n",
    "ruta_salida = Path(\"eda_reports\")\n",
    "ruta_salida.mkdir(parents=True, exist_ok=True)\n",
    "\n",
    "# Generar informes EDA\n",
    "for csv in ruta_csvs.glob(\"*.csv\"):\n",
    "    try:\n",
    "        print(f\"📊 Generando EDA para: {csv.name}\")\n",
    "        df = pd.read_csv(csv, encoding=\"utf-8\", quotechar='\"', skipinitialspace=True)\n",
    "\n",
    "        profile = ProfileReport(df, title=f\"EDA - {csv.stem}\", explorative=True)\n",
    "        output_path = ruta_salida / f\"{csv.stem}_eda.html\"\n",
    "        profile.to_file(output_path)\n",
    "        print(f\"✅ Guardado en: {output_path}\\n\")\n",
    "    except Exception as e:\n",
    "        print(f\"⚠️ Error al procesar {csv.name}: {e}\")\n"
   ]
  },
  {
   "cell_type": "code",
   "execution_count": null,
   "id": "4a989524",
   "metadata": {},
   "outputs": [],
   "source": []
  },
  {
   "cell_type": "code",
   "execution_count": null,
   "id": "516a3dc1",
   "metadata": {},
   "outputs": [],
   "source": []
  },
  {
   "cell_type": "code",
   "execution_count": null,
   "id": "e874d160",
   "metadata": {},
   "outputs": [],
   "source": []
  },
  {
   "cell_type": "code",
   "execution_count": null,
   "id": "5e708aa2",
   "metadata": {},
   "outputs": [],
   "source": []
  },
  {
   "cell_type": "code",
   "execution_count": null,
   "id": "7e241501",
   "metadata": {},
   "outputs": [],
   "source": []
  }
 ],
 "metadata": {
  "kernelspec": {
   "display_name": ".venv (3.12.0)",
   "language": "python",
   "name": "python3"
  },
  "language_info": {
   "codemirror_mode": {
    "name": "ipython",
    "version": 3
   },
   "file_extension": ".py",
   "mimetype": "text/x-python",
   "name": "python",
   "nbconvert_exporter": "python",
   "pygments_lexer": "ipython3",
   "version": "3.12.0"
  }
 },
 "nbformat": 4,
 "nbformat_minor": 5
}
